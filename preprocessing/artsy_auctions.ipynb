{
 "cells": [
  {
   "cell_type": "code",
   "execution_count": 24,
   "metadata": {},
   "outputs": [],
   "source": [
    "import pandas as pd\n",
    "\n",
    "def preprocess(raw_info_path, clean_info_path):\n",
    "    lots = pd.read_csv(raw_info_path)\n",
    "\n",
    "    lots = rename_columns(lots)\n",
    "    lots = fix_dimensions(lots)\n",
    "    lots = fix_price(lots)\n",
    "    lots = define_sold(lots)\n",
    "    lots = define_year_of_sale(lots)\n",
    "    lots = lots.drop(columns=['Dimensions'])\n",
    "    lots = drop_rows(lots)\n",
    "\n",
    "    lots = lots.drop(columns=['Unnamed: 0', 'Unnamed: 0.1'])\n",
    "\n",
    "    lots.to_csv(clean_info_path, index=False)\n",
    "\n",
    "    return lots\n",
    "\n",
    "def rename_columns(lots):\n",
    "    lots = lots.rename(columns={'Artist_name': 'Artist', 'Medium': 'Technique'})\n",
    "    return lots\n",
    "\n",
    "\n",
    "def fix_dimensions(lots):\n",
    "    lots['Height (cm)'] = lots['Dimensions'].str.extract(r'(.*?) x')\n",
    "    lots['Height (cm)'] = lots['Height (cm)'].str.replace(' cm', '').str.replace(',', '.')#.astype(float)\n",
    "    lots['Width (cm)'] = lots['Dimensions'].str.extract(r'x (.*) cm')\n",
    "    lots['Width (cm)'] = lots['Width (cm)'].str.replace(' cm', '').str.replace(',', '.')#.astype(float)\n",
    "    return lots\n",
    "\n",
    "def fix_price(lots):\n",
    "     #lots['Price'] = lots['Price'].apply(lambda x: None if 'Price not available' in x else x)\n",
    "\n",
    "    lots['Price'] = lots['Price'].str.extract(r'R\\$ (.*?) \\|')\n",
    "    lots['Price'] = lots['Price'].str.replace('.', '').str.replace(',', '') #.astype(float) / 100\n",
    "    # price unit is the firts charactere of price when price is float\n",
    "    lots['Price unit'] = lots['Price'].apply(lambda x: str(x)[0] if isinstance(x, float) else None)\n",
    "    return lots\n",
    "\n",
    "def define_sold(lots):\n",
    "    # lots['Sold'] = lots['Price'].apply(lambda x: True if any(i.isdigit() for i in x) else False)\n",
    "    return lots\n",
    "\n",
    "def define_year_of_sale(lots):\n",
    "    # lots['Year of sale'] = lots['Data da Pesquisa'].str.extract(r'(\\d{4})')\n",
    "    return lots\n",
    "\n",
    "def drop_rows(lots):\n",
    "    lots = lots[lots['Error'] == 'False']\n",
    "    # lots = lots[lots['Price (BRL)'] > 0]\n",
    "    lots = lots.reset_index(drop=True)\n",
    "\n",
    "    return lots"
   ]
  },
  {
   "cell_type": "code",
   "execution_count": 25,
   "metadata": {},
   "outputs": [],
   "source": [
    "lots = preprocess('../temporary-files/artsy_auctions_artworks_info.csv', '../clean-files/artsy_auctions_artworks_info.csv')"
   ]
  }
 ],
 "metadata": {
  "kernelspec": {
   "display_name": "venv",
   "language": "python",
   "name": "python3"
  },
  "language_info": {
   "codemirror_mode": {
    "name": "ipython",
    "version": 3
   },
   "file_extension": ".py",
   "mimetype": "text/x-python",
   "name": "python",
   "nbconvert_exporter": "python",
   "pygments_lexer": "ipython3",
   "version": "3.11.4"
  },
  "orig_nbformat": 4
 },
 "nbformat": 4,
 "nbformat_minor": 2
}
