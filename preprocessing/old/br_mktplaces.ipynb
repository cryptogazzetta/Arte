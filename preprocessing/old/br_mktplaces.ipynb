{
 "cells": [
  {
   "cell_type": "code",
   "execution_count": 111,
   "metadata": {},
   "outputs": [],
   "source": [
    "## IMPORTS\n",
    "\n",
    "import pandas as pd\n",
    "import spacy\n",
    "import re\n",
    "# SCI-KIT LEARN\n",
    "from sklearn.model_selection import train_test_split\n",
    "from sklearn.linear_model import LinearRegression\n",
    "from sklearn.tree import DecisionTreeRegressor\n",
    "from sklearn.ensemble import RandomForestRegressor\n",
    "from sklearn.ensemble import GradientBoostingRegressor\n",
    "from sklearn.metrics import r2_score, mean_absolute_error, median_absolute_error, mean_squared_error, mean_absolute_percentage_error"
   ]
  },
  {
   "cell_type": "code",
   "execution_count": 112,
   "metadata": {},
   "outputs": [],
   "source": [
    "## FUNCTIONS\n",
    "\n",
    "def get_number(string):\n",
    "    numbers = re.findall(r'\\d+', string)\n",
    "    return ''.join(numbers)"
   ]
  },
  {
   "cell_type": "code",
   "execution_count": 17,
   "metadata": {},
   "outputs": [],
   "source": [
    "## SPACY\n",
    "\n",
    "nlp = spacy.load(\"pt_core_news_lg\")\n",
    "\n",
    "# Define lists of possible goals and interests\n",
    "MATERIALS_OPTIONS = [\n",
    "    \"Acrílica\", \"Aquarela\", \"Carvão\", \"Cerâmica\",\n",
    "    \"Colagem\", \"Couro\", \"Desenho\", \"Escultura\",\n",
    "    \"Fotografia\", \"Gesso\", \"Óleo\", \"Papel\",\n",
    "    \"Pastel\", \"Pedra\", \"Pintura\", \"Tela\",\n",
    "    \"Aquarela\", \"Nanquim\", \"Tinta\", \"Vidro\"\n",
    "    \"Impressão\", \"Cerâmica\", \"Bronze\", \"Madeira\",\n",
    "    \"Algodão\", \"Grafite\", \"Tecido\", \"Ferro\",\n",
    "    \"Mármore\", \"Papel\", \"Policromia\", \"Resina\",\n",
    "    \"Serigrafia\", \"Tecido\", \"Tinta acrílica\", \"Tinta a óleo\",\n",
    "    \"Sobre Tela\", \"Sobre Papel\", \"Sobre Madeira\"\n",
    "    ]\n",
    "\n",
    "CATEGORIES_OPTIONS = [\n",
    "    \"Pintura\", \"Escultura\", \"Fotografia\", \"Desenho\",\n",
    "    \"Gravura\", \"Objeto\", \"Instalação\", \"Vídeo\"\n",
    "]\n",
    "\n",
    "# Define a function to extract structured information from user_json\n",
    "def extract_structured_info(artwork_description):\n",
    "    structured_info = []\n",
    "    doc = nlp(artwork_description)\n",
    "    for token in doc:\n",
    "        if any(material.lower() in token.text.lower() for material in MATERIALS_OPTIONS):\n",
    "            structured_info.append(token.text.capitalize())\n",
    "    return structured_info"
   ]
  },
  {
   "cell_type": "code",
   "execution_count": 100,
   "metadata": {},
   "outputs": [],
   "source": [
    "## MODELS\n",
    "\n",
    "\n",
    "def get_stats(x, y):\n",
    "    stats = {}\n",
    "    for variable in [x, y]:\n",
    "        max_variable = round(max(variable), 2)\n",
    "        min_variable = round(min(variable), 2)\n",
    "        mean_variable = round(variable.mean(), 2)\n",
    "        median_variable = round(variable.median(), 2)\n",
    "        stats_variable = {'Max': max_variable, 'Min': min_variable, 'Mean': mean_variable, 'Median': median_variable}\n",
    "        # add stats_variable to stats\n",
    "        stats[variable] = stats_variable\n",
    "    return stats\n",
    "\n",
    "\n",
    "## GET MODELS\n",
    "\n",
    "def get_decision_tree(X_train, y_train):\n",
    "    decision_tree = DecisionTreeRegressor(random_state=42)\n",
    "    decision_tree.fit(X_train, y_train)\n",
    "    return decision_tree\n",
    "\n",
    "def get_linear_regression(X_train, y_train):\n",
    "    linear_regression = LinearRegression()\n",
    "    linear_regression.fit(X_train, y_train)\n",
    "    return linear_regression\n",
    "\n",
    "def get_random_forest(X_train, y_train):\n",
    "    rf_model = RandomForestRegressor(random_state=1)\n",
    "    rf_model.fit(X_train, y_train)\n",
    "    return rf_model\n",
    "\n",
    "def get_gradient_boosting(X_train, y_train):\n",
    "    # get gradient boosting model\n",
    "    gb_model = GradientBoostingRegressor(random_state=1)\n",
    "    gb_model.fit(X_train, y_train)\n",
    "    return gb_model\n",
    "\n",
    "# gives a dataframe taking models as columns and score as rows\n",
    "def get_all_models(x_train, x_test, y_train, y_test):\n",
    "    \n",
    "    models = {'Linear regression': get_linear_regression(x_train, y_train),\n",
    "              'Decision tree': get_decision_tree(x_train, y_train),\n",
    "              'Random forest': get_random_forest(x_train, y_train),\n",
    "              'Gradient boosting': get_gradient_boosting(x_train, y_train)}\n",
    "    \n",
    "    models_df = pd.DataFrame(columns=models.keys())\n",
    "    for model_name, model in models.items():\n",
    "        y_pred = model.predict(x_test)\n",
    "        r2 = r2_score(y_test, y_pred)\n",
    "        n = len(y_test)\n",
    "        p = x_test.shape[1]\n",
    "        adj_r2 = 1 - (1 - r2) * (n - 1) / (n - p - 1)\n",
    "        mean_error = mean_absolute_error(y_test, y_pred)\n",
    "        median_error = median_absolute_error(y_test, y_pred)\n",
    "        mape = mean_absolute_percentage_error(y_test, y_pred)\n",
    "        mse = mean_squared_error(y_test, y_pred)\n",
    "        pearson = np.corrcoef(y_test.to_numpy(), y_pred)[0, 1]\n",
    "\n",
    "        models_df.loc['R² Score', model_name] = r2\n",
    "        models_df.loc['Adjusted R² Score', model_name] = adj_r2\n",
    "        models_df.loc['Pearson Correl Predicted-Actual', model_name] = pearson\n",
    "        models_df.loc['Mean Absolute Error', model_name] = mean_error\n",
    "        models_df.loc['Median Absolute Error', model_name] = median_error\n",
    "        models_df.loc['Mean Squared Error', model_name] = mse\n",
    "\n",
    "        # Round values\n",
    "        models_df = models_df.round(2)\n",
    "\n",
    "    return models_df, models"
   ]
  },
  {
   "cell_type": "code",
   "execution_count": 140,
   "metadata": {},
   "outputs": [],
   "source": [
    "## OPEN FILES\n",
    "\n",
    "\n",
    "# ART RIO\n",
    "artrio = pd.read_csv('../temporary-files/artrio_artworks_info.csv')\n",
    "artrio['Materials'] = artrio['Ficha técnica'].apply(lambda x: extract_structured_info(x) if isinstance(x, str) else None)\n",
    "artrio = artrio[['Title', 'Artist', 'Price', 'Materials', 'Height', 'Width', 'Depth', 'Gallery']]\n",
    "\n",
    "# BLOMBO\n",
    "blombo = pd.read_csv('../temporary-files/blombo_artworks_info.csv')\n",
    "blombo['Materials'] = blombo['Description'].apply(lambda x: extract_structured_info(x) if isinstance(x, str) else None)\n",
    "blombo[['Height', 'Width', 'Depth']] = blombo['Dimensões'].str.split(' x ', expand=True).replace('cm', '', regex=True).replace('m', '', regex=True).replace('mm', '', regex=True).replace(' ', '', regex=True)\n",
    "blombo['Price'] = blombo['Price'].apply(lambda x: get_number(x) if isinstance(x, str) else x).astype(float) /100\n",
    "blombo = blombo[['Title', 'Artist', 'Price', 'Materials', 'Height', 'Width', 'Depth']]\n",
    "\n",
    "# NANO\n",
    "nano = pd.read_csv('../temporary-files/nano_artworks_info.csv')\n",
    "nano.rename(columns={'Título': 'Title', 'Galeria': 'Gallery'}, inplace=True)\n",
    "nano['Materials'] = nano['Técnica'].apply(lambda x: extract_structured_info(x) if isinstance(x, str) else None)\n",
    "nano.Categories.replace('Categoria: ', '', regex=True, inplace=True)\n",
    "nano[['Height', 'Width', 'Depth']] = nano['Dimensões'].apply(lambda x: x.split(' cm')[0] if isinstance(x, str) else None).str.split(' x ', expand=True).replace('cm', '', regex=True).replace('m', '', regex=True).replace('mm', '', regex=True).replace(' ', '', regex=True)\n",
    "nano['Price'] = nano['Price'].apply(lambda x: get_number(x) if isinstance(x, str) else x).astype(float) /100\n",
    "nano = nano[['Title', 'Artist', 'Price', 'Materials', 'Height', 'Width', 'Depth', 'Gallery']]\n",
    "\n",
    "# SP ARTE\n",
    "sp_arte = pd.read_csv('../temporary-files/sparte_artworks_info.csv')\n",
    "sp_arte['Materials'] = sp_arte['Description'].apply(lambda x: extract_structured_info(x) if isinstance(x, str) else None)\n",
    "sp_arte[['Height', 'Width', 'Depth']] = sp_arte['Size'].apply(lambda x: x.split(' cm')[0]).str.split(' × ', expand=True).replace('cm', '', regex=True).replace('m', '', regex=True).replace('mm', '', regex=True).replace(' ', '', regex=True)\n",
    "sp_arte = sp_arte[['Title', 'Artist', 'Price', 'Materials', 'Height', 'Width', 'Depth', 'Gallery']]"
   ]
  },
  {
   "cell_type": "code",
   "execution_count": 141,
   "metadata": {},
   "outputs": [
    {
     "ename": "IndexError",
     "evalue": "list index out of range",
     "output_type": "error",
     "traceback": [
      "\u001b[0;31m---------------------------------------------------------------------------\u001b[0m",
      "\u001b[0;31mIndexError\u001b[0m                                Traceback (most recent call last)",
      "Cell \u001b[0;32mIn[141], line 2\u001b[0m\n\u001b[1;32m      1\u001b[0m \u001b[39m# split values that contain '-' and keep only second value\u001b[39;00m\n\u001b[0;32m----> 2\u001b[0m sp_arte[\u001b[39m'\u001b[39m\u001b[39mPrice\u001b[39m\u001b[39m'\u001b[39m] \u001b[39m=\u001b[39m sp_arte[\u001b[39m'\u001b[39;49m\u001b[39mPrice\u001b[39;49m\u001b[39m'\u001b[39;49m]\u001b[39m.\u001b[39;49mapply(\u001b[39mlambda\u001b[39;49;00m x: x\u001b[39m.\u001b[39;49msplit(\u001b[39m'\u001b[39;49m\u001b[39m-\u001b[39;49m\u001b[39m'\u001b[39;49m)[\u001b[39m1\u001b[39;49m] \u001b[39mif\u001b[39;49;00m \u001b[39misinstance\u001b[39;49m(x, \u001b[39mstr\u001b[39;49m) \u001b[39melse\u001b[39;49;00m x)\n",
      "File \u001b[0;32m~/Documents/Projects/Arte/venv/lib/python3.11/site-packages/pandas/core/series.py:4630\u001b[0m, in \u001b[0;36mSeries.apply\u001b[0;34m(self, func, convert_dtype, args, **kwargs)\u001b[0m\n\u001b[1;32m   4520\u001b[0m \u001b[39mdef\u001b[39;00m \u001b[39mapply\u001b[39m(\n\u001b[1;32m   4521\u001b[0m     \u001b[39mself\u001b[39m,\n\u001b[1;32m   4522\u001b[0m     func: AggFuncType,\n\u001b[0;32m   (...)\u001b[0m\n\u001b[1;32m   4525\u001b[0m     \u001b[39m*\u001b[39m\u001b[39m*\u001b[39mkwargs,\n\u001b[1;32m   4526\u001b[0m ) \u001b[39m-\u001b[39m\u001b[39m>\u001b[39m DataFrame \u001b[39m|\u001b[39m Series:\n\u001b[1;32m   4527\u001b[0m \u001b[39m    \u001b[39m\u001b[39m\"\"\"\u001b[39;00m\n\u001b[1;32m   4528\u001b[0m \u001b[39m    Invoke function on values of Series.\u001b[39;00m\n\u001b[1;32m   4529\u001b[0m \n\u001b[0;32m   (...)\u001b[0m\n\u001b[1;32m   4628\u001b[0m \u001b[39m    dtype: float64\u001b[39;00m\n\u001b[1;32m   4629\u001b[0m \u001b[39m    \"\"\"\u001b[39;00m\n\u001b[0;32m-> 4630\u001b[0m     \u001b[39mreturn\u001b[39;00m SeriesApply(\u001b[39mself\u001b[39;49m, func, convert_dtype, args, kwargs)\u001b[39m.\u001b[39;49mapply()\n",
      "File \u001b[0;32m~/Documents/Projects/Arte/venv/lib/python3.11/site-packages/pandas/core/apply.py:1025\u001b[0m, in \u001b[0;36mSeriesApply.apply\u001b[0;34m(self)\u001b[0m\n\u001b[1;32m   1022\u001b[0m     \u001b[39mreturn\u001b[39;00m \u001b[39mself\u001b[39m\u001b[39m.\u001b[39mapply_str()\n\u001b[1;32m   1024\u001b[0m \u001b[39m# self.f is Callable\u001b[39;00m\n\u001b[0;32m-> 1025\u001b[0m \u001b[39mreturn\u001b[39;00m \u001b[39mself\u001b[39;49m\u001b[39m.\u001b[39;49mapply_standard()\n",
      "File \u001b[0;32m~/Documents/Projects/Arte/venv/lib/python3.11/site-packages/pandas/core/apply.py:1076\u001b[0m, in \u001b[0;36mSeriesApply.apply_standard\u001b[0;34m(self)\u001b[0m\n\u001b[1;32m   1074\u001b[0m     \u001b[39melse\u001b[39;00m:\n\u001b[1;32m   1075\u001b[0m         values \u001b[39m=\u001b[39m obj\u001b[39m.\u001b[39mastype(\u001b[39mobject\u001b[39m)\u001b[39m.\u001b[39m_values\n\u001b[0;32m-> 1076\u001b[0m         mapped \u001b[39m=\u001b[39m lib\u001b[39m.\u001b[39;49mmap_infer(\n\u001b[1;32m   1077\u001b[0m             values,\n\u001b[1;32m   1078\u001b[0m             f,\n\u001b[1;32m   1079\u001b[0m             convert\u001b[39m=\u001b[39;49m\u001b[39mself\u001b[39;49m\u001b[39m.\u001b[39;49mconvert_dtype,\n\u001b[1;32m   1080\u001b[0m         )\n\u001b[1;32m   1082\u001b[0m \u001b[39mif\u001b[39;00m \u001b[39mlen\u001b[39m(mapped) \u001b[39mand\u001b[39;00m \u001b[39misinstance\u001b[39m(mapped[\u001b[39m0\u001b[39m], ABCSeries):\n\u001b[1;32m   1083\u001b[0m     \u001b[39m# GH#43986 Need to do list(mapped) in order to get treated as nested\u001b[39;00m\n\u001b[1;32m   1084\u001b[0m     \u001b[39m#  See also GH#25959 regarding EA support\u001b[39;00m\n\u001b[1;32m   1085\u001b[0m     \u001b[39mreturn\u001b[39;00m obj\u001b[39m.\u001b[39m_constructor_expanddim(\u001b[39mlist\u001b[39m(mapped), index\u001b[39m=\u001b[39mobj\u001b[39m.\u001b[39mindex)\n",
      "File \u001b[0;32m~/Documents/Projects/Arte/venv/lib/python3.11/site-packages/pandas/_libs/lib.pyx:2834\u001b[0m, in \u001b[0;36mpandas._libs.lib.map_infer\u001b[0;34m()\u001b[0m\n",
      "Cell \u001b[0;32mIn[141], line 2\u001b[0m, in \u001b[0;36m<lambda>\u001b[0;34m(x)\u001b[0m\n\u001b[1;32m      1\u001b[0m \u001b[39m# split values that contain '-' and keep only second value\u001b[39;00m\n\u001b[0;32m----> 2\u001b[0m sp_arte[\u001b[39m'\u001b[39m\u001b[39mPrice\u001b[39m\u001b[39m'\u001b[39m] \u001b[39m=\u001b[39m sp_arte[\u001b[39m'\u001b[39m\u001b[39mPrice\u001b[39m\u001b[39m'\u001b[39m]\u001b[39m.\u001b[39mapply(\u001b[39mlambda\u001b[39;00m x: x\u001b[39m.\u001b[39;49msplit(\u001b[39m'\u001b[39;49m\u001b[39m-\u001b[39;49m\u001b[39m'\u001b[39;49m)[\u001b[39m1\u001b[39;49m] \u001b[39mif\u001b[39;00m \u001b[39misinstance\u001b[39m(x, \u001b[39mstr\u001b[39m) \u001b[39melse\u001b[39;00m x)\n",
      "\u001b[0;31mIndexError\u001b[0m: list index out of range"
     ]
    }
   ],
   "source": [
    "## FIX SP ARTE PRICES (SOME PRICES ARE RANGES)\n",
    "\n",
    "# split values that contain '-' and keep only second value\n",
    "sp_arte['Price'] = sp_arte['Price'].apply(lambda x: x.split('-')[1] if isinstance(x, str) else x)"
   ]
  },
  {
   "cell_type": "code",
   "execution_count": 142,
   "metadata": {},
   "outputs": [
    {
     "data": {
      "text/plain": [
       "0        500.0\n",
       "1        500.0\n",
       "2        500.0\n",
       "3        530.0\n",
       "4        800.0\n",
       "         ...  \n",
       "2715    2500.0\n",
       "2716    5500.0\n",
       "2717    1300.0\n",
       "2718    2500.0\n",
       "2719    3300.0\n",
       "Name: Price, Length: 2720, dtype: float64"
      ]
     },
     "execution_count": 142,
     "metadata": {},
     "output_type": "execute_result"
    }
   ],
   "source": [
    "## CONCATENATE DATAFRAMES\n",
    "\n",
    "artworks = pd.concat([artrio, blombo, nano], ignore_index=True)\n",
    "\n",
    "artworks['Price']"
   ]
  },
  {
   "cell_type": "code",
   "execution_count": 147,
   "metadata": {},
   "outputs": [
    {
     "data": {
      "text/plain": [
       "Index(['Title', 'Price', 'Materials', 'Height', 'Width', 'Depth',\n",
       "       'Artist_ALBERTO BITAR', 'Artist_ALBERTO MARTINS',\n",
       "       'Artist_ALESSANDRA REHDER', 'Artist_ALESSANDRA REHDER 2',\n",
       "       ...\n",
       "       'Gallery_RV Cultura e Arte', 'Gallery_Raquel Arnaud',\n",
       "       'Gallery_SILVIA CINTRA + BOX 4', 'Gallery_SIMÕES DE ASSIS GALERIA',\n",
       "       'Gallery_Superfície', 'Gallery_SÉ', 'Gallery_Uncool Artist',\n",
       "       'Gallery_Yaak Gallery', 'Gallery_Ybakatu', 'Gallery_Zilda Fraletti'],\n",
       "      dtype='object', length=967)"
      ]
     },
     "execution_count": 147,
     "metadata": {},
     "output_type": "execute_result"
    }
   ],
   "source": [
    "train_data, test_data = train_test_split(artworks, test_size=0.2, random_state=42)\n",
    "\n",
    "# get dummies for artist and gallery\n",
    "train_data = pd.get_dummies(train_data, columns=['Artist', 'Gallery'], drop_first=True)\n",
    "test_data = pd.get_dummies(test_data, columns=['Artist', 'Gallery'], drop_first=True)\n",
    "train_data.columns"
   ]
  },
  {
   "cell_type": "code",
   "execution_count": 160,
   "metadata": {},
   "outputs": [
    {
     "data": {
      "text/plain": [
       "1029       35\n",
       "2382    24X36\n",
       "1196    50x40\n",
       "1502       48\n",
       "445      70.0\n",
       "        ...  \n",
       "1638    55x40\n",
       "1095    21X21\n",
       "1130      100\n",
       "1294      153\n",
       "860     103.0\n",
       "Name: Height, Length: 2176, dtype: object"
      ]
     },
     "execution_count": 160,
     "metadata": {},
     "output_type": "execute_result"
    }
   ],
   "source": [
    "## APPLY MODELS\n",
    "\n",
    "x_train = train_data.drop(['Title', 'Price', 'Materials'], axis=1)\n",
    "y_train = train_data['Price']\n",
    "\n",
    "x_test = test_data.drop(['Title', 'Price', 'Materials'], axis=1)\n",
    "y_test = test_data['Price']\n",
    "\n",
    "\n",
    "# get all non-numeric values in x_train\n",
    "non_numeric = x_train.select_dtypes(exclude=['int64', 'float64', 'bool']).columns\n",
    "\n",
    "x_train['Height']\n",
    "\n",
    "# models_df, models = get_all_models(x_train, x_test, y_train, y_test)"
   ]
  },
  {
   "cell_type": "code",
   "execution_count": 165,
   "metadata": {},
   "outputs": [
    {
     "name": "stdout",
     "output_type": "stream",
     "text": [
      "(10.0, 10.0, 10.0)\n"
     ]
    }
   ],
   "source": [
    "# function to get height, width and depth from description\n",
    "# splits at 'cm', ignores everything to the right\n",
    "# considers 'x', 'X', '×' and 'X' as possible separators\n",
    "def get_dimensions(dimensions_str):\n",
    "    separators = ['x', 'X', '×', 'X']\n",
    "    \n",
    "    dimensions_str = dimensions_str.split('cm')[0]\n",
    "    for separator in separators:\n",
    "        if separator in dimensions_str:\n",
    "            height, width, depth = dimensions_str.split(separator)\n",
    "            break\n",
    "    height = float(height)\n",
    "    width = float(width)\n",
    "    depth = float(depth)\n",
    "\n",
    "    return height, width, depth\n",
    "\n",
    "dimensions_str = '10 x 10 x 10 cm'\n",
    "print(get_dimensions(dimensions_str))"
   ]
  }
 ],
 "metadata": {
  "kernelspec": {
   "display_name": "venv",
   "language": "python",
   "name": "python3"
  },
  "language_info": {
   "codemirror_mode": {
    "name": "ipython",
    "version": 3
   },
   "file_extension": ".py",
   "mimetype": "text/x-python",
   "name": "python",
   "nbconvert_exporter": "python",
   "pygments_lexer": "ipython3",
   "version": "3.11.4"
  },
  "orig_nbformat": 4
 },
 "nbformat": 4,
 "nbformat_minor": 2
}
