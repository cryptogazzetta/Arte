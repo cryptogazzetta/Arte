{
 "cells": [
  {
   "cell_type": "code",
   "execution_count": 1,
   "metadata": {},
   "outputs": [],
   "source": [
    "import pandas as pd"
   ]
  },
  {
   "cell_type": "code",
   "execution_count": 30,
   "metadata": {},
   "outputs": [],
   "source": [
    "lots = pd.read_csv('./temporary-files/catalogo_artworks_info.csv')"
   ]
  },
  {
   "cell_type": "code",
   "execution_count": 27,
   "metadata": {},
   "outputs": [
    {
     "name": "stdout",
     "output_type": "stream",
     "text": [
      "duplicates:  0\n"
     ]
    }
   ],
   "source": [
    "# count duplicates\n",
    "duplicates = lots.duplicated(subset=['url'], keep=False)\n",
    "duplicates = duplicates[duplicates == True]\n",
    "print('duplicates: ', len(duplicates))"
   ]
  },
  {
   "cell_type": "code",
   "execution_count": 31,
   "metadata": {},
   "outputs": [],
   "source": [
    "lots.dropna(subset=['Dimensão'], inplace=True)\n",
    "lots = lots[lots['Dimensão'].str.contains(r'\\d')]\n",
    "lots['Height (cm)'] = lots['Dimensão'].str.extract(r'(.*?) x')\n",
    "lots['Height (cm)'] = lots['Height (cm)'].str.replace(' cm', '').str.replace(',', '.').astype(float)\n",
    "lots['Width (cm)'] = lots['Dimensão'].str.extract(r'x (.*) cm')\n",
    "lots['Width (cm)'] = lots['Width (cm)'].str.replace(' cm', '').str.replace(',', '.').astype(float)"
   ]
  },
  {
   "cell_type": "code",
   "execution_count": 29,
   "metadata": {},
   "outputs": [
    {
     "name": "stdout",
     "output_type": "stream",
     "text": [
      "(2806, 23)\n",
      "(2806, 23)\n"
     ]
    }
   ],
   "source": [
    "# drop all rows that dont contain any numeric value in 'Dimensão' column\n",
    "print(lots.shape)\n",
    "lots.dropna(subset=['Dimensão'], inplace=True)\n",
    "lots = lots[lots['Dimensão'].str.contains(r'\\d')]\n",
    "print(lots.shape)"
   ]
  }
 ],
 "metadata": {
  "kernelspec": {
   "display_name": "venv",
   "language": "python",
   "name": "python3"
  },
  "language_info": {
   "codemirror_mode": {
    "name": "ipython",
    "version": 3
   },
   "file_extension": ".py",
   "mimetype": "text/x-python",
   "name": "python",
   "nbconvert_exporter": "python",
   "pygments_lexer": "ipython3",
   "version": "3.11.4"
  }
 },
 "nbformat": 4,
 "nbformat_minor": 2
}
