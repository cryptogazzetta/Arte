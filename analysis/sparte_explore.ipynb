{
 "cells": [
  {
   "cell_type": "code",
   "execution_count": 53,
   "metadata": {},
   "outputs": [],
   "source": [
    "## IMPORTS\n",
    "import pandas as pd\n",
    "import string_handle"
   ]
  },
  {
   "cell_type": "code",
   "execution_count": 61,
   "metadata": {},
   "outputs": [],
   "source": [
    "## FUNCTIONS\n",
    "\n",
    "def calculate_area_and_price_per_area(dataframe):\n",
    "    # Iterate over the \"Size\" column\n",
    "    df = dataframe.copy()\n",
    "    for i, size in enumerate(dataframe['Size']):\n",
    "        dimensions = re.findall(r'\\d+(?:\\.\\d+)?', size)\n",
    "        if len(dimensions) >= 2:\n",
    "            # Extract the width and height dimensions\n",
    "            try:\n",
    "                width = float(dimensions[0])\n",
    "                df.at[i, 'Width'] = width\n",
    "                height = float(dimensions[1])\n",
    "                df.at[i, 'Height'] = height\n",
    "                total_area = width * height\n",
    "                df.at[i, 'Size'] = total_area\n",
    "            except:\n",
    "                df.at[i, 'Size'] = 'NaN'\n",
    "    # df['Price / cm²'] = df['Price'] / df['Size']\n",
    "\n",
    "    return df"
   ]
  },
  {
   "cell_type": "code",
   "execution_count": 86,
   "metadata": {},
   "outputs": [],
   "source": [
    "artworks_df = pd.read_csv('../temporary-files/sparte_artworks_info.csv')\n",
    "artworks_df = calculate_area_and_price_per_area(artworks_df)\n",
    "\n",
    "\n",
    "artworks_df['Price'] = artworks_df['Price'].apply(lambda x: x.split('–')[0] if '–' in x else x)\n",
    "\n",
    "artworks_df['MaxPrice'] = artworks_df['Price'].apply(lambda x: x.split('–')[1] if '–' in x else x)\n",
    "\n",
    "artworks_df['Price'] = artworks_df['Price'].apply(lambda x: string_handle.get_number(x))"
   ]
  },
  {
   "cell_type": "code",
   "execution_count": 98,
   "metadata": {},
   "outputs": [
    {
     "data": {
      "text/plain": [
       "['R$ 50.000', '100.000']"
      ]
     },
     "execution_count": 98,
     "metadata": {},
     "output_type": "execute_result"
    }
   ],
   "source": [
    "a = artworks_df.loc[1, 'MaxPrice']\n",
    "price = a.split('–')\n",
    "price"
   ]
  }
 ],
 "metadata": {
  "kernelspec": {
   "display_name": "Python 3",
   "language": "python",
   "name": "python3"
  },
  "language_info": {
   "codemirror_mode": {
    "name": "ipython",
    "version": 3
   },
   "file_extension": ".py",
   "mimetype": "text/x-python",
   "name": "python",
   "nbconvert_exporter": "python",
   "pygments_lexer": "ipython3",
   "version": "3.11.4"
  },
  "orig_nbformat": 4
 },
 "nbformat": 4,
 "nbformat_minor": 2
}
