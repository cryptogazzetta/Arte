{
 "cells": [
  {
   "cell_type": "code",
   "execution_count": 2,
   "metadata": {},
   "outputs": [],
   "source": [
    "## IMPORTS\n",
    "\n",
    "import pandas as pd\n",
    "import numpy as np\n",
    "import matplotlib.pyplot as plt\n",
    "\n",
    "from sklearn.linear_model import LinearRegression\n",
    "from sklearn.tree import DecisionTreeRegressor\n",
    "from sklearn.ensemble import RandomForestRegressor\n",
    "from sklearn.ensemble import GradientBoostingRegressor\n",
    "from sklearn.model_selection import train_test_split\n",
    "from sklearn.metrics import mean_absolute_error, mean_squared_error, median_absolute_error, mean_absolute_percentage_error, r2_score"
   ]
  },
  {
   "cell_type": "code",
   "execution_count": 3,
   "metadata": {},
   "outputs": [],
   "source": [
    "## DUMMIES\n",
    "\n",
    "def check_for_dummies(columns):\n",
    "    dummies_collumns = []\n",
    "    for column in ['Gallery', 'Artist']:\n",
    "        if column in columns:\n",
    "            dummies_collumns.append(column)\n",
    "    return len(dummies_collumns)\n",
    "\n",
    "def get_dummies(train, test, dummies_collumns):\n",
    "    train_dummies = pd.get_dummies(train, columns=dummies_collumns)\n",
    "    test_dummies = pd.get_dummies(test, columns=dummies_collumns)\n",
    "    # add missing columns to test set\n",
    "    missing_cols = set(train_dummies.columns) - set(test_dummies.columns)\n",
    "    missing_cols_list = list(missing_cols)\n",
    "    missing_cols_df = pd.DataFrame(0, columns=missing_cols_list, index=test_dummies.index)\n",
    "    test_dummies = pd.concat([test_dummies, missing_cols_df], axis=1)\n",
    "\n",
    "    return train_dummies, test_dummies"
   ]
  },
  {
   "cell_type": "code",
   "execution_count": 4,
   "metadata": {},
   "outputs": [],
   "source": [
    "## MODELS\n",
    "\n",
    "def get_decision_tree(X_train, y_train):\n",
    "    decision_tree = DecisionTreeRegressor(random_state=42)\n",
    "    decision_tree.fit(X_train, y_train)\n",
    "    return decision_tree\n",
    "\n",
    "def get_linear_regression(X_train, y_train):\n",
    "    linear_regression = LinearRegression()\n",
    "    linear_regression.fit(X_train, y_train)\n",
    "    return linear_regression\n",
    "\n",
    "def get_random_forest(X_train, y_train):\n",
    "    rf_model = RandomForestRegressor(random_state=1)\n",
    "    rf_model.fit(X_train, y_train)\n",
    "    return rf_model\n",
    "\n",
    "def get_gradient_boosting(X_train, y_train):\n",
    "    # get gradient boosting model\n",
    "    gb_model = GradientBoostingRegressor(random_state=1)\n",
    "    gb_model.fit(X_train, y_train)\n",
    "    return gb_model\n",
    "\n",
    "# gives a dataframe taking models as columns and score as rows\n",
    "def get_all_models(x_train, x_test, y_train, y_test):\n",
    "    \n",
    "    models = {'Linear regression': get_linear_regression(x_train, y_train),\n",
    "              'Decision tree': get_decision_tree(x_train, y_train),\n",
    "              'Random forest': get_random_forest(x_train, y_train),\n",
    "              'Gradient boosting': get_gradient_boosting(x_train, y_train)}\n",
    "    \n",
    "    models_df = pd.DataFrame(columns=models.keys())\n",
    "    for model_name, model in models.items():\n",
    "        y_pred = model.predict(x_test)\n",
    "        r2 = r2_score(y_test, y_pred)\n",
    "        n = len(y_test)\n",
    "        p = x_test.shape[1]\n",
    "        adj_r2 = 1 - (1 - r2) * (n - 1) / (n - p - 1)\n",
    "        mean_error = mean_absolute_error(y_test, y_pred)\n",
    "        median_error = median_absolute_error(y_test, y_pred)\n",
    "        mape = mean_absolute_percentage_error(y_test, y_pred)\n",
    "        mse = mean_squared_error(y_test, y_pred)\n",
    "        pearson = np.corrcoef(y_test.astype(float), y_pred)[0, 1]\n",
    "\n",
    "        models_df.loc['R² Score', model_name] = r2\n",
    "        models_df.loc['Adjusted R² Score', model_name] = adj_r2\n",
    "        models_df.loc['Pearson Correl Predicted-Actual', model_name] = pearson\n",
    "        models_df.loc['Mean Absolute Error', model_name] = mean_error\n",
    "        models_df.loc['Median Absolute Error', model_name] = median_error\n",
    "        models_df.loc['Mean Squared Error', model_name] = mse\n",
    "\n",
    "        # Round values\n",
    "        models_df = models_df.round(2)\n",
    "\n",
    "    return models_df, models"
   ]
  },
  {
   "cell_type": "code",
   "execution_count": 24,
   "metadata": {},
   "outputs": [],
   "source": [
    "## FILTERS\n",
    "\n",
    "MATERIALS_OPTIONS = [\n",
    "    \"acrílico\", \"aquarela\", \"óleo\", \"papel\", \"pastel\",\n",
    "    \"pintura\", \"tela\", \"aquarela\", \"nanquim\",\n",
    "    \"policromia\", \"resina\", \"tinta acrílica\", \"tinta a óleo\",\n",
    "    \"sobre tela\", \"sobre papel\", \"sobre madeira\"\n",
    "    ]"
   ]
  },
  {
   "cell_type": "code",
   "execution_count": 6,
   "metadata": {},
   "outputs": [],
   "source": [
    "## GETTING DATA\n",
    "\n",
    "# Read in the data\n",
    "artrio = pd.read_csv('../temporary-files/artrio_artworks_info.csv')\n",
    "artsoul = pd.read_csv('../temporary-files/artsoul_artworks_info.csv')\n",
    "sparte = pd.read_csv('../temporary-files/sparte_artworks_info.csv')\n",
    "sparte.rename(columns={'Size': 'Area'}, inplace=True)\n",
    "nano = pd.read_csv('../temporary-files/nano_artworks_info.csv')\n",
    "nano.rename(columns={'Galeria': 'Gallery'}, inplace=True)"
   ]
  },
  {
   "cell_type": "code",
   "execution_count": 7,
   "metadata": {},
   "outputs": [],
   "source": [
    "## KEEP ONLY PAINTINGS\n",
    "\n",
    "# ARTRIO\n",
    "artrio = artrio.dropna(subset='Ficha técnica')\n",
    "# ficha técnica column to lowercase\n",
    "artrio['Ficha técnica'] = artrio['Ficha técnica'].str.lower()\n",
    "artrio = artrio[artrio['Ficha técnica'].str.contains('|'.join(MATERIALS_OPTIONS))]\n",
    "\n",
    "# ARTSOUL\n",
    "artsoul = artsoul.dropna(subset=['Description', 'Técnicas'])\n",
    "artsoul['Description'] = artsoul['Description'].str.lower()\n",
    "artsoul['Técnicas'] = artsoul['Técnicas'].str.lower()\n",
    "artsoul = artsoul[artsoul['Description'].str.contains('|'.join(MATERIALS_OPTIONS)) | artsoul['Técnicas'].str.contains('|'.join(MATERIALS_OPTIONS))]\n",
    "\n",
    "# NANO\n",
    "nano = nano.dropna(subset=['Categories'])\n",
    "nano['Categories'] = nano['Categories'].str.lower()\n",
    "nano = nano[nano['Categories'].str.contains('|'.join(MATERIALS_OPTIONS))]\n",
    "\n",
    "# SPARTE\n",
    "sparte = sparte.dropna(subset=['Description'])\n",
    "sparte['Description'] = sparte['Description'].str.lower()\n",
    "sparte = sparte[sparte['Description'].str.contains('|'.join(MATERIALS_OPTIONS))]"
   ]
  },
  {
   "cell_type": "code",
   "execution_count": 8,
   "metadata": {},
   "outputs": [],
   "source": [
    "## GETTING GALLERIES DATAFRAME\n",
    "\n",
    "df = pd.concat([artrio, artsoul, sparte, nano], ignore_index=True)\n",
    "\n",
    "galleries_df = df[['Gallery', 'Area', 'Price', 'Artist']]\n",
    "galleries_df.loc[:,'Gallery'] = galleries_df['Gallery'].str.upper()"
   ]
  },
  {
   "cell_type": "code",
   "execution_count": 9,
   "metadata": {},
   "outputs": [
    {
     "name": "stdout",
     "output_type": "stream",
     "text": [
      "147  galleries found\n"
     ]
    },
    {
     "data": {
      "text/plain": [
       "array(['HALL', 'MOVIMENTO', 'ATHENA', 'FASAM', 'MARTHA PAGY',\n",
       "       'EDITORA COBOGÓ', 'MUL.TI.PLO ESPAÇO', 'LONA', 'CASSIA BOMENY',\n",
       "       'PORTAS VILASECA', 'RV CULTURA E', 'CENTRAL', 'NARA ROESLER',\n",
       "       'MERCEDES VIEGAS', 'JANAINA TORRES', 'C.', 'MATIAS BROTAS',\n",
       "       'CARCARA PHOTO ART', 'GABY INDIO DA COSTA', 'AURA', 'OMA',\n",
       "       'MARCIA BARROZO DO AMARAL', 'ESTAÇÃO', 'CARBONO',\n",
       "       'SILVIA CINTRA + BOX 4', 'BORDALLO', 'ANITA SCHWARTZ',\n",
       "       'LUCIANA BRITO', 'SIMÕES DE ASSIS', 'SUPERFÍCIE', 'MARIO COHEN',\n",
       "       'GUSTAVO REBELLO', 'MILLAN', 'FÓLIO', 'ZAGUT',\n",
       "       'GRAVURA BRASILEIRA', 'ZILDA FRALETTI', 'YBAKATU',\n",
       "       'ROBERTA BOTTCHER', 'DE  MAMUTE', 'CHARLES CENCI', 'ANETE RING',\n",
       "       'ABACT', 'TINA ZAPPOLI', 'VERÔNICA ALKMIM FRANÇA', 'JORGE ISMAEL',\n",
       "       'MARIO BAPTISTA', 'TARCISO DE LIMA', 'GABRIEL NEHEMY',\n",
       "       'RAFAEL ADORJÁN', 'SA PASSOS', 'NACIONAL TROVOA', 'VALERIA KHOURI',\n",
       "       'MYRIAM GLATT', 'DANIELA CUTAIT', 'BRUNO LYRA STUDIO',\n",
       "       'ANA MARIA FARINA', 'FORMATTO', 'RENAN CEPEDA',\n",
       "       'MARY CARMEN MATIAS', 'CHOQUE CULTURAL', 'SANTA COSTA',\n",
       "       'LUÍSA PRESTES', 'ADRIANA CONTI MELO', 'POENTE',\n",
       "       'NADIA GUERRERO HUMBERG', 'ARNALDO DIAS BAPTISTA',\n",
       "       'PEDRO DINIZ KUBITSCHEK', 'CAIO SIQUEIRA', 'ZIPPER',\n",
       "       'CARLA PETRINI', 'PATRICIA BORGES', 'RENATO DIB',\n",
       "       'EDUARDO FERNANDES', 'LUCIANO CIAN', 'AM DE', 'MARINA RODRIGUES',\n",
       "       'CRISTINA CANEPA', 'MARIANNA CARUSO CURY',\n",
       "       'CASA E OFICINA DE  LOLY DEMERCIAN', 'RAQUEL ARNAUD',\n",
       "       'PAULO DARZÉ', 'MAC DESIGN', 'FRENTE',\n",
       "       'PASSADO COMPOSTO SÉCULO XX', 'LEONARDO LEAL', 'GLADSTONE',\n",
       "       'PINAKOTHEKE', 'REFERÊNCIA', 'MARCO ZERO', 'AM', 'PROJETO VÊNUS',\n",
       "       'MASP – MUSEU DE  DE SÃO PAULO', 'CARMO JOHNSON PROJECTS',\n",
       "       'CASA JACAREPAGUÁ', 'MAÂT', 'PAPEL ASSINADO', 'MAPA', 'MAMUTE',\n",
       "       'LUCIANA CARAVELLO  CONTEMPORÂNEA', 'BERENICE ARVANI',\n",
       "       'RODRIGO RATTON', 'KARANDASH', 'VERVE', 'ANDREA REHDER',\n",
       "       'ALMEIDA & DALE', 'CASA ROSA AMARELA', 'STEINART CONTEMPORÂNEA',\n",
       "       'PARTICULAR.ART.BR', 'NIL', 'DISNEY + VIK MUNIZ',\n",
       "       'GISELA PROJECTS', 'GALERÍA SUR', 'MARILIA RAZUK', 'ALBAN',\n",
       "       'GALATEA', 'MUSEU DE  DO RIO GRANDE DO SUL  MACRS', 'SALA RÚSSIA',\n",
       "       'LUME', 'AMPARO 60', 'ZIELINSKY', 'INOX',\n",
       "       'GALERÍA DE LAS MISIONES', 'QUADRA', 'DESAPÊ', 'MURILO CASTRO',\n",
       "       'IZABEL PINHEIRO', 'LEME', 'TERRA VIRGEM EDIÇÕES',\n",
       "       '57 – RENATO MAGALHAES GOUVÊA JR.', 'MARLI MATSUMOTO', 'DAN',\n",
       "       'SPACIO', 'ACERVO', 'VERMELHO', 'MARCELO GUARNIERI',\n",
       "       'ARTUR FIDALGO', 'A GENTIL CARIOCA', 'JACQUELINE TERPINS',\n",
       "       'CELMA ALBUQUERQUE', nan, 'JAQUELINE MARTINS', 'LATERAL',\n",
       "       'BOLSA DE', 'UNCOOL ARTIST', 'ATELIÊ 397', 'LUCIANA CARAVELLO'],\n",
       "      dtype=object)"
      ]
     },
     "execution_count": 9,
     "metadata": {},
     "output_type": "execute_result"
    }
   ],
   "source": [
    "## CLEANING GALLERY COLUMN\n",
    "\n",
    "substrings = ['GALERIA DE ARTE', 'GALLERY', 'ESCRITÓRIO DE ARTE', 'ARTE CONTEMPORÂNEA', 'ARTE', 'GALERIA', '-']\n",
    "for substring in substrings:\n",
    "    galleries_df.loc[:,'Gallery'] = galleries_df['Gallery'].str.replace(substring, '')\n",
    "galleries_df.loc[:,'Gallery'] = galleries_df['Gallery'].str.strip()\n",
    "\n",
    "print(len(galleries_df['Gallery'].unique()), ' galleries found')\n",
    "galleries_df['Gallery'].unique()"
   ]
  },
  {
   "cell_type": "code",
   "execution_count": 10,
   "metadata": {},
   "outputs": [
    {
     "name": "stderr",
     "output_type": "stream",
     "text": [
      "/var/folders/rt/d94hn0nj1cl2kykjjkdpswxw0000gn/T/ipykernel_16592/3417369011.py:3: SettingWithCopyWarning: \n",
      "A value is trying to be set on a copy of a slice from a DataFrame.\n",
      "Try using .loc[row_indexer,col_indexer] = value instead\n",
      "\n",
      "See the caveats in the documentation: https://pandas.pydata.org/pandas-docs/stable/user_guide/indexing.html#returning-a-view-versus-a-copy\n",
      "  galleries_df.loc[:,'Price/Area'] = galleries_df.loc[:,'Price'] / galleries_df.loc[:,'Area']\n"
     ]
    },
    {
     "data": {
      "text/plain": [
       "(771, 4)"
      ]
     },
     "execution_count": 10,
     "metadata": {},
     "output_type": "execute_result"
    }
   ],
   "source": [
    "max_quantil, min_quantil = 0.95, 0.05 ## QUANTILES TO REMOVE OUTLIERS\n",
    "\n",
    "galleries_df.loc[:,'Price/Area'] = galleries_df.loc[:,'Price'] / galleries_df.loc[:,'Area']\n",
    "galleries_df = galleries_df[galleries_df['Price/Area'] < galleries_df['Price/Area'].quantile(max_quantil)]\n",
    "galleries_df = galleries_df[galleries_df['Price/Area'] > galleries_df['Price/Area'].quantile(min_quantil)]\n",
    "galleries_df.drop(columns=['Price/Area'], inplace=True)\n",
    "\n",
    "galleries_df.shape"
   ]
  },
  {
   "cell_type": "code",
   "execution_count": 11,
   "metadata": {},
   "outputs": [],
   "source": [
    "log = False ## LOG SWITCH\n",
    "\n",
    "if log:\n",
    "    area = np.log(galleries_df['Area'].astype(float))\n",
    "    price = np.log(galleries_df['Price'].astype(float))\n",
    "else:\n",
    "    area = galleries_df['Area']\n",
    "    price = galleries_df['Price']"
   ]
  },
  {
   "cell_type": "code",
   "execution_count": 12,
   "metadata": {},
   "outputs": [
    {
     "data": {
      "image/png": "[encoded data removed]",
      "text/plain": [
       "<Figure size 1000x600 with 1 Axes>"
      ]
     },
     "metadata": {},
     "output_type": "display_data"
    }
   ],
   "source": [
    "## AREA X PRICE\n",
    "\n",
    "galleries_df = galleries_df.dropna()\n",
    "\n",
    "area = pd.to_numeric(area, errors='coerce')\n",
    "price = pd.to_numeric(price, errors='coerce')\n",
    "\n",
    "# plot area x price\n",
    "plt.figure(figsize=(10, 6))\n",
    "plt.scatter(area, price)\n",
    "plt.xlabel('Area')\n",
    "plt.ylabel('Price')\n",
    "plt.title('Area x Price')\n",
    "# include trend line\n",
    "z = np.polyfit(area, price, 1)\n",
    "p = np.poly1d(z)\n",
    "plt.plot(area, p(area),\"r--\")\n",
    "\n",
    "plt.show()\n"
   ]
  },
  {
   "cell_type": "code",
   "execution_count": 13,
   "metadata": {},
   "outputs": [
    {
     "data": {
      "text/html": [
       "<div>\n",
       "<style scoped>\n",
       "    .dataframe tbody tr th:only-of-type {\n",
       "        vertical-align: middle;\n",
       "    }\n",
       "\n",
       "    .dataframe tbody tr th {\n",
       "        vertical-align: top;\n",
       "    }\n",
       "\n",
       "    .dataframe thead th {\n",
       "        text-align: right;\n",
       "    }\n",
       "</style>\n",
       "<table border=\"1\" class=\"dataframe\">\n",
       "  <thead>\n",
       "    <tr style=\"text-align: right;\">\n",
       "      <th></th>\n",
       "      <th>Linear regression</th>\n",
       "      <th>Decision tree</th>\n",
       "      <th>Random forest</th>\n",
       "      <th>Gradient boosting</th>\n",
       "    </tr>\n",
       "  </thead>\n",
       "  <tbody>\n",
       "    <tr>\n",
       "      <th>R² Score</th>\n",
       "      <td>-8720078686909.12207</td>\n",
       "      <td>0.350623</td>\n",
       "      <td>0.39852</td>\n",
       "      <td>0.377823</td>\n",
       "    </tr>\n",
       "    <tr>\n",
       "      <th>Adjusted R² Score</th>\n",
       "      <td>8371275539434.717773</td>\n",
       "      <td>1.623402</td>\n",
       "      <td>1.577421</td>\n",
       "      <td>1.59729</td>\n",
       "    </tr>\n",
       "    <tr>\n",
       "      <th>Pearson Correl Predicted-Actual</th>\n",
       "      <td>0.116065</td>\n",
       "      <td>0.619521</td>\n",
       "      <td>0.641163</td>\n",
       "      <td>0.614761</td>\n",
       "    </tr>\n",
       "    <tr>\n",
       "      <th>Mean Absolute Error</th>\n",
       "      <td>25349435434.083214</td>\n",
       "      <td>8870.943005</td>\n",
       "      <td>8439.805936</td>\n",
       "      <td>10538.437529</td>\n",
       "    </tr>\n",
       "    <tr>\n",
       "      <th>Median Absolute Error</th>\n",
       "      <td>7594.7118</td>\n",
       "      <td>2000.0</td>\n",
       "      <td>2543.0</td>\n",
       "      <td>5742.289949</td>\n",
       "    </tr>\n",
       "    <tr>\n",
       "      <th>Mean Squared Error</th>\n",
       "      <td>5980515201737062088704.0</td>\n",
       "      <td>445363881.367876</td>\n",
       "      <td>412514562.494988</td>\n",
       "      <td>426709446.938632</td>\n",
       "    </tr>\n",
       "  </tbody>\n",
       "</table>\n",
       "</div>"
      ],
      "text/plain": [
       "                                        Linear regression     Decision tree  \\\n",
       "R² Score                             -8720078686909.12207          0.350623   \n",
       "Adjusted R² Score                    8371275539434.717773          1.623402   \n",
       "Pearson Correl Predicted-Actual                  0.116065          0.619521   \n",
       "Mean Absolute Error                    25349435434.083214       8870.943005   \n",
       "Median Absolute Error                           7594.7118            2000.0   \n",
       "Mean Squared Error               5980515201737062088704.0  445363881.367876   \n",
       "\n",
       "                                    Random forest Gradient boosting  \n",
       "R² Score                                  0.39852          0.377823  \n",
       "Adjusted R² Score                        1.577421           1.59729  \n",
       "Pearson Correl Predicted-Actual          0.641163          0.614761  \n",
       "Mean Absolute Error                   8439.805936      10538.437529  \n",
       "Median Absolute Error                      2543.0       5742.289949  \n",
       "Mean Squared Error               412514562.494988  426709446.938632  "
      ]
     },
     "execution_count": 13,
     "metadata": {},
     "output_type": "execute_result"
    }
   ],
   "source": [
    "columns = ['Area', 'Gallery', 'Artist', 'Price'] ## APPLYING MODELS\n",
    "\n",
    "galleries_df_to_model = galleries_df[columns].dropna()\n",
    "\n",
    "# train test split\n",
    "train, test = train_test_split(galleries_df_to_model, test_size=0.25, random_state=123)\n",
    "\n",
    "dummies_columns = ['Gallery', 'Artist']\n",
    "\n",
    "if check_for_dummies(columns):\n",
    "    train, test = get_dummies(train, test, dummies_columns)\n",
    "\n",
    "x_train = train.drop('Price', axis=1)\n",
    "y_train = train['Price']\n",
    "x_test = test.drop('Price', axis=1)\n",
    "y_test = test['Price']\n",
    "\n",
    "# adjust columns\n",
    "x_test = x_test[x_train.columns]\n",
    "\n",
    "models_df, models = get_all_models(x_train, x_test, y_train, y_test)\n",
    "\n",
    "models_df"
   ]
  },
  {
   "cell_type": "code",
   "execution_count": 23,
   "metadata": {},
   "outputs": [
    {
     "data": {
      "text/plain": [
       "392"
      ]
     },
     "execution_count": 23,
     "metadata": {},
     "output_type": "execute_result"
    }
   ],
   "source": [
    "len(x_train.columns)"
   ]
  },
  {
   "cell_type": "code",
   "execution_count": 22,
   "metadata": {},
   "outputs": [],
   "source": [
    "# save model in a pickle file\n",
    "import pickle\n",
    "pickle.dump(models['Random forest'], open('./models/rf_br_marketplaces.pkl', 'wb'))\n",
    "\n",
    "# save test df as csv\n",
    "x_test.to_csv('./models/x_br_marketplaces.csv', index=False)\n",
    "\n",
    "galleries = galleries_df['Gallery'].unique()\n",
    "artists = galleries_df['Artist'].unique()\n",
    "\n",
    "# save galleries and artists as csv\n",
    "pd.DataFrame(galleries).to_csv('./models/galleries_br_marketplaces.csv', index=False)\n",
    "pd.DataFrame(artists).to_csv('./models/artists_br_marketplaces.csv', index=False)"
   ]
  },
  {
   "cell_type": "code",
   "execution_count": 14,
   "metadata": {},
   "outputs": [
    {
     "ename": "NameError",
     "evalue": "name 'test_dummies' is not defined",
     "output_type": "error",
     "traceback": [
      "\u001b[0;31m---------------------------------------------------------------------------\u001b[0m",
      "\u001b[0;31mNameError\u001b[0m                                 Traceback (most recent call last)",
      "\u001b[1;32m/Users/mac/Documents/Projects/Arte/analysis/galleries_study.ipynb Cell 13\u001b[0m line \u001b[0;36m1\n\u001b[1;32m      <a href='vscode-notebook-cell:/Users/mac/Documents/Projects/Arte/analysis/galleries_study.ipynb#X15sZmlsZQ%3D%3D?line=7'>8</a>\u001b[0m     prediction \u001b[39m=\u001b[39m np\u001b[39m.\u001b[39mlog(prediction)\n\u001b[1;32m     <a href='vscode-notebook-cell:/Users/mac/Documents/Projects/Arte/analysis/galleries_study.ipynb#X15sZmlsZQ%3D%3D?line=9'>10</a>\u001b[0m \u001b[39m# add gb_prediction to galleries_df dataframes\u001b[39;00m\n\u001b[0;32m---> <a href='vscode-notebook-cell:/Users/mac/Documents/Projects/Arte/analysis/galleries_study.ipynb#X15sZmlsZQ%3D%3D?line=10'>11</a>\u001b[0m test_dummies[\u001b[39m'\u001b[39m\u001b[39mPredicted Price\u001b[39m\u001b[39m'\u001b[39m] \u001b[39m=\u001b[39m prediction\n\u001b[1;32m     <a href='vscode-notebook-cell:/Users/mac/Documents/Projects/Arte/analysis/galleries_study.ipynb#X15sZmlsZQ%3D%3D?line=11'>12</a>\u001b[0m test_dummies\u001b[39m.\u001b[39msort_values(by\u001b[39m=\u001b[39m\u001b[39m'\u001b[39m\u001b[39mPrice\u001b[39m\u001b[39m'\u001b[39m, ascending\u001b[39m=\u001b[39m\u001b[39mFalse\u001b[39;00m)\n\u001b[1;32m     <a href='vscode-notebook-cell:/Users/mac/Documents/Projects/Arte/analysis/galleries_study.ipynb#X15sZmlsZQ%3D%3D?line=13'>14</a>\u001b[0m \u001b[39m# plot price x prediction with same scale on x and y axes\u001b[39;00m\n",
      "\u001b[0;31mNameError\u001b[0m: name 'test_dummies' is not defined"
     ]
    }
   ],
   "source": [
    "## PLOT PREDICTED PRICE X ACTUAL PRICE\n",
    "\n",
    "model = models['Gradient boosting']\n",
    "\n",
    "prediction = model.predict(x_test)\n",
    "\n",
    "if log:\n",
    "    prediction = np.log(prediction)\n",
    "\n",
    "# add gb_prediction to galleries_df dataframes\n",
    "x_test['Predicted Price'] = prediction\n",
    "x_test.sort_values(by='Price', ascending=False)\n",
    "\n",
    "# plot price x prediction with same scale on x and y axes\n",
    "plt.figure(figsize=(6, 6))\n",
    "plt.scatter(y_test, prediction)\n",
    "plt.xlabel('Price')\n",
    "plt.ylabel('Prediction')\n",
    "plt.title('Price x Prediction')\n",
    "# include trend line\n",
    "z = np.polyfit(y_test.astype(float), prediction, 1)\n",
    "p = np.poly1d(z)\n",
    "plt.plot(y_test, p(y_test),\"r--\")\n",
    "\n",
    "plt.show()"
   ]
  },
  {
   "cell_type": "code",
   "execution_count": null,
   "metadata": {},
   "outputs": [
    {
     "ename": "ValueError",
     "evalue": "Shape of passed values is (392, 1), indices imply (27, 1)",
     "output_type": "error",
     "traceback": [
      "\u001b[0;31m---------------------------------------------------------------------------\u001b[0m",
      "\u001b[0;31mValueError\u001b[0m                                Traceback (most recent call last)",
      "\u001b[1;32m/Users/mac/Documents/Projects/Arte/analysis/galleries_study.ipynb Cell 14\u001b[0m line \u001b[0;36m1\n\u001b[0;32m----> <a href='vscode-notebook-cell:/Users/mac/Documents/Projects/Arte/analysis/galleries_study.ipynb#X21sZmlsZQ%3D%3D?line=0'>1</a>\u001b[0m feature_importances_df \u001b[39m=\u001b[39m pd\u001b[39m.\u001b[39;49mDataFrame(model\u001b[39m.\u001b[39;49mfeature_importances_,\n\u001b[1;32m      <a href='vscode-notebook-cell:/Users/mac/Documents/Projects/Arte/analysis/galleries_study.ipynb#X21sZmlsZQ%3D%3D?line=1'>2</a>\u001b[0m                                       index \u001b[39m=\u001b[39;49m x_test\u001b[39m.\u001b[39;49mcolumns,\n\u001b[1;32m      <a href='vscode-notebook-cell:/Users/mac/Documents/Projects/Arte/analysis/galleries_study.ipynb#X21sZmlsZQ%3D%3D?line=2'>3</a>\u001b[0m                                         columns\u001b[39m=\u001b[39;49m[\u001b[39m'\u001b[39;49m\u001b[39mFeature Importance\u001b[39;49m\u001b[39m'\u001b[39;49m])\u001b[39m.\u001b[39msort_values(\u001b[39m'\u001b[39m\u001b[39mFeature Importance\u001b[39m\u001b[39m'\u001b[39m, ascending\u001b[39m=\u001b[39m\u001b[39mFalse\u001b[39;00m)\n\u001b[1;32m      <a href='vscode-notebook-cell:/Users/mac/Documents/Projects/Arte/analysis/galleries_study.ipynb#X21sZmlsZQ%3D%3D?line=4'>5</a>\u001b[0m feature_importances_df\u001b[39m.\u001b[39mhead(\u001b[39m20\u001b[39m)\n\u001b[1;32m      <a href='vscode-notebook-cell:/Users/mac/Documents/Projects/Arte/analysis/galleries_study.ipynb#X21sZmlsZQ%3D%3D?line=6'>7</a>\u001b[0m \u001b[39m# list of features with importance greater than 0.001\u001b[39;00m\n",
      "File \u001b[0;32m~/Documents/Projects/Arte/venv/lib/python3.11/site-packages/pandas/core/frame.py:758\u001b[0m, in \u001b[0;36mDataFrame.__init__\u001b[0;34m(self, data, index, columns, dtype, copy)\u001b[0m\n\u001b[1;32m    747\u001b[0m         mgr \u001b[39m=\u001b[39m dict_to_mgr(\n\u001b[1;32m    748\u001b[0m             \u001b[39m# error: Item \"ndarray\" of \"Union[ndarray, Series, Index]\" has no\u001b[39;00m\n\u001b[1;32m    749\u001b[0m             \u001b[39m# attribute \"name\"\u001b[39;00m\n\u001b[0;32m   (...)\u001b[0m\n\u001b[1;32m    755\u001b[0m             copy\u001b[39m=\u001b[39m_copy,\n\u001b[1;32m    756\u001b[0m         )\n\u001b[1;32m    757\u001b[0m     \u001b[39melse\u001b[39;00m:\n\u001b[0;32m--> 758\u001b[0m         mgr \u001b[39m=\u001b[39m ndarray_to_mgr(\n\u001b[1;32m    759\u001b[0m             data,\n\u001b[1;32m    760\u001b[0m             index,\n\u001b[1;32m    761\u001b[0m             columns,\n\u001b[1;32m    762\u001b[0m             dtype\u001b[39m=\u001b[39;49mdtype,\n\u001b[1;32m    763\u001b[0m             copy\u001b[39m=\u001b[39;49mcopy,\n\u001b[1;32m    764\u001b[0m             typ\u001b[39m=\u001b[39;49mmanager,\n\u001b[1;32m    765\u001b[0m         )\n\u001b[1;32m    767\u001b[0m \u001b[39m# For data is list-like, or Iterable (will consume into list)\u001b[39;00m\n\u001b[1;32m    768\u001b[0m \u001b[39melif\u001b[39;00m is_list_like(data):\n",
      "File \u001b[0;32m~/Documents/Projects/Arte/venv/lib/python3.11/site-packages/pandas/core/internals/construction.py:337\u001b[0m, in \u001b[0;36mndarray_to_mgr\u001b[0;34m(values, index, columns, dtype, copy, typ)\u001b[0m\n\u001b[1;32m    332\u001b[0m \u001b[39m# _prep_ndarraylike ensures that values.ndim == 2 at this point\u001b[39;00m\n\u001b[1;32m    333\u001b[0m index, columns \u001b[39m=\u001b[39m _get_axes(\n\u001b[1;32m    334\u001b[0m     values\u001b[39m.\u001b[39mshape[\u001b[39m0\u001b[39m], values\u001b[39m.\u001b[39mshape[\u001b[39m1\u001b[39m], index\u001b[39m=\u001b[39mindex, columns\u001b[39m=\u001b[39mcolumns\n\u001b[1;32m    335\u001b[0m )\n\u001b[0;32m--> 337\u001b[0m _check_values_indices_shape_match(values, index, columns)\n\u001b[1;32m    339\u001b[0m \u001b[39mif\u001b[39;00m typ \u001b[39m==\u001b[39m \u001b[39m\"\u001b[39m\u001b[39marray\u001b[39m\u001b[39m\"\u001b[39m:\n\u001b[1;32m    340\u001b[0m     \u001b[39mif\u001b[39;00m \u001b[39missubclass\u001b[39m(values\u001b[39m.\u001b[39mdtype\u001b[39m.\u001b[39mtype, \u001b[39mstr\u001b[39m):\n",
      "File \u001b[0;32m~/Documents/Projects/Arte/venv/lib/python3.11/site-packages/pandas/core/internals/construction.py:408\u001b[0m, in \u001b[0;36m_check_values_indices_shape_match\u001b[0;34m(values, index, columns)\u001b[0m\n\u001b[1;32m    406\u001b[0m passed \u001b[39m=\u001b[39m values\u001b[39m.\u001b[39mshape\n\u001b[1;32m    407\u001b[0m implied \u001b[39m=\u001b[39m (\u001b[39mlen\u001b[39m(index), \u001b[39mlen\u001b[39m(columns))\n\u001b[0;32m--> 408\u001b[0m \u001b[39mraise\u001b[39;00m \u001b[39mValueError\u001b[39;00m(\u001b[39mf\u001b[39m\u001b[39m\"\u001b[39m\u001b[39mShape of passed values is \u001b[39m\u001b[39m{\u001b[39;00mpassed\u001b[39m}\u001b[39;00m\u001b[39m, indices imply \u001b[39m\u001b[39m{\u001b[39;00mimplied\u001b[39m}\u001b[39;00m\u001b[39m\"\u001b[39m)\n",
      "\u001b[0;31mValueError\u001b[0m: Shape of passed values is (392, 1), indices imply (27, 1)"
     ]
    }
   ],
   "source": [
    "feature_importances_df = pd.DataFrame(model.feature_importances_,\n",
    "                                      index = x_test.columns,\n",
    "                                        columns=['Feature Importance']).sort_values('Feature Importance', ascending=False)\n",
    "\n",
    "feature_importances_df.head(20)\n",
    "\n",
    "# list of features with importance greater than 0.001\n",
    "features_to_keep = feature_importances_df[feature_importances_df['Feature Importance'] > 0.001].index.tolist()\n",
    "\n",
    "feature_filtered_df = galleries_df[features_to_keep]\n",
    "\n",
    "# train test split\n",
    "train, test = train_test_split(feature_filtered_df, test_size=0.25, random_state=123)\n",
    "\n",
    "if check_for_dummies(columns):\n",
    "    train, test = get_dummies(train, test, dummies_collumns)\n",
    "\n",
    "x_train = train.drop('Price', axis=1)\n",
    "y_train = train['Price']\n",
    "x_test = test.drop('Price', axis=1)\n",
    "y_test = test['Price']\n",
    "\n",
    "# adjust columns\n",
    "x_test = x_test[x_train.columns]\n",
    "\n",
    "models_df, models = get_all_models(x_train, x_test, y_train, y_test)\n",
    "\n",
    "models_df\n"
   ]
  },
  {
   "cell_type": "code",
   "execution_count": null,
   "metadata": {},
   "outputs": [],
   "source": []
  },
  {
   "cell_type": "code",
   "execution_count": null,
   "metadata": {},
   "outputs": [
    {
     "data": {
      "text/plain": [
       "Gallery\n",
       "FASAM                               90\n",
       "MERCEDES VIEGAS                     49\n",
       "JANAINA TORRES                      49\n",
       "MARTHA PAGY                         46\n",
       "MUL.TI.PLO ESPAÇO                   36\n",
       "                                    ..\n",
       "DESAPÊ                               1\n",
       "57 – RENATO MAGALHAES GOUVÊA JR.     1\n",
       "ARTUR FIDALGO                        1\n",
       "JACQUELINE TERPINS                   1\n",
       "CELMA ALBUQUERQUE                    1\n",
       "Name: count, Length: 78, dtype: int64"
      ]
     },
     "execution_count": 131,
     "metadata": {},
     "output_type": "execute_result"
    }
   ],
   "source": [
    "galleries_df[:-2]['Gallery'].value_counts()"
   ]
  },
  {
   "cell_type": "code",
   "execution_count": null,
   "metadata": {},
   "outputs": [
    {
     "ename": "TypeError",
     "evalue": "Could not convert Raymundo Colares to numeric",
     "output_type": "error",
     "traceback": [
      "\u001b[0;31m---------------------------------------------------------------------------\u001b[0m",
      "\u001b[0;31mNotImplementedError\u001b[0m                       Traceback (most recent call last)",
      "File \u001b[0;32m~/Documents/Projects/Arte/venv/lib/python3.11/site-packages/pandas/core/groupby/groupby.py:1490\u001b[0m, in \u001b[0;36mGroupBy._cython_agg_general.<locals>.array_func\u001b[0;34m(values)\u001b[0m\n\u001b[1;32m   1489\u001b[0m \u001b[39mtry\u001b[39;00m:\n\u001b[0;32m-> 1490\u001b[0m     result \u001b[39m=\u001b[39m \u001b[39mself\u001b[39;49m\u001b[39m.\u001b[39;49mgrouper\u001b[39m.\u001b[39;49m_cython_operation(\n\u001b[1;32m   1491\u001b[0m         \u001b[39m\"\u001b[39;49m\u001b[39maggregate\u001b[39;49m\u001b[39m\"\u001b[39;49m,\n\u001b[1;32m   1492\u001b[0m         values,\n\u001b[1;32m   1493\u001b[0m         how,\n\u001b[1;32m   1494\u001b[0m         axis\u001b[39m=\u001b[39;49mdata\u001b[39m.\u001b[39;49mndim \u001b[39m-\u001b[39;49m \u001b[39m1\u001b[39;49m,\n\u001b[1;32m   1495\u001b[0m         min_count\u001b[39m=\u001b[39;49mmin_count,\n\u001b[1;32m   1496\u001b[0m         \u001b[39m*\u001b[39;49m\u001b[39m*\u001b[39;49mkwargs,\n\u001b[1;32m   1497\u001b[0m     )\n\u001b[1;32m   1498\u001b[0m \u001b[39mexcept\u001b[39;00m \u001b[39mNotImplementedError\u001b[39;00m:\n\u001b[1;32m   1499\u001b[0m     \u001b[39m# generally if we have numeric_only=False\u001b[39;00m\n\u001b[1;32m   1500\u001b[0m     \u001b[39m# and non-applicable functions\u001b[39;00m\n\u001b[1;32m   1501\u001b[0m     \u001b[39m# try to python agg\u001b[39;00m\n\u001b[1;32m   1502\u001b[0m     \u001b[39m# TODO: shouldn't min_count matter?\u001b[39;00m\n",
      "File \u001b[0;32m~/Documents/Projects/Arte/venv/lib/python3.11/site-packages/pandas/core/groupby/ops.py:959\u001b[0m, in \u001b[0;36mBaseGrouper._cython_operation\u001b[0;34m(self, kind, values, how, axis, min_count, **kwargs)\u001b[0m\n\u001b[1;32m    958\u001b[0m ngroups \u001b[39m=\u001b[39m \u001b[39mself\u001b[39m\u001b[39m.\u001b[39mngroups\n\u001b[0;32m--> 959\u001b[0m \u001b[39mreturn\u001b[39;00m cy_op\u001b[39m.\u001b[39;49mcython_operation(\n\u001b[1;32m    960\u001b[0m     values\u001b[39m=\u001b[39;49mvalues,\n\u001b[1;32m    961\u001b[0m     axis\u001b[39m=\u001b[39;49maxis,\n\u001b[1;32m    962\u001b[0m     min_count\u001b[39m=\u001b[39;49mmin_count,\n\u001b[1;32m    963\u001b[0m     comp_ids\u001b[39m=\u001b[39;49mids,\n\u001b[1;32m    964\u001b[0m     ngroups\u001b[39m=\u001b[39;49mngroups,\n\u001b[1;32m    965\u001b[0m     \u001b[39m*\u001b[39;49m\u001b[39m*\u001b[39;49mkwargs,\n\u001b[1;32m    966\u001b[0m )\n",
      "File \u001b[0;32m~/Documents/Projects/Arte/venv/lib/python3.11/site-packages/pandas/core/groupby/ops.py:657\u001b[0m, in \u001b[0;36mWrappedCythonOp.cython_operation\u001b[0;34m(self, values, axis, min_count, comp_ids, ngroups, **kwargs)\u001b[0m\n\u001b[1;32m    649\u001b[0m     \u001b[39mreturn\u001b[39;00m \u001b[39mself\u001b[39m\u001b[39m.\u001b[39m_ea_wrap_cython_operation(\n\u001b[1;32m    650\u001b[0m         values,\n\u001b[1;32m    651\u001b[0m         min_count\u001b[39m=\u001b[39mmin_count,\n\u001b[0;32m   (...)\u001b[0m\n\u001b[1;32m    654\u001b[0m         \u001b[39m*\u001b[39m\u001b[39m*\u001b[39mkwargs,\n\u001b[1;32m    655\u001b[0m     )\n\u001b[0;32m--> 657\u001b[0m \u001b[39mreturn\u001b[39;00m \u001b[39mself\u001b[39;49m\u001b[39m.\u001b[39;49m_cython_op_ndim_compat(\n\u001b[1;32m    658\u001b[0m     values,\n\u001b[1;32m    659\u001b[0m     min_count\u001b[39m=\u001b[39;49mmin_count,\n\u001b[1;32m    660\u001b[0m     ngroups\u001b[39m=\u001b[39;49mngroups,\n\u001b[1;32m    661\u001b[0m     comp_ids\u001b[39m=\u001b[39;49mcomp_ids,\n\u001b[1;32m    662\u001b[0m     mask\u001b[39m=\u001b[39;49m\u001b[39mNone\u001b[39;49;00m,\n\u001b[1;32m    663\u001b[0m     \u001b[39m*\u001b[39;49m\u001b[39m*\u001b[39;49mkwargs,\n\u001b[1;32m    664\u001b[0m )\n",
      "File \u001b[0;32m~/Documents/Projects/Arte/venv/lib/python3.11/site-packages/pandas/core/groupby/ops.py:497\u001b[0m, in \u001b[0;36mWrappedCythonOp._cython_op_ndim_compat\u001b[0;34m(self, values, min_count, ngroups, comp_ids, mask, result_mask, **kwargs)\u001b[0m\n\u001b[1;32m    495\u001b[0m     \u001b[39mreturn\u001b[39;00m res\u001b[39m.\u001b[39mT\n\u001b[0;32m--> 497\u001b[0m \u001b[39mreturn\u001b[39;00m \u001b[39mself\u001b[39;49m\u001b[39m.\u001b[39;49m_call_cython_op(\n\u001b[1;32m    498\u001b[0m     values,\n\u001b[1;32m    499\u001b[0m     min_count\u001b[39m=\u001b[39;49mmin_count,\n\u001b[1;32m    500\u001b[0m     ngroups\u001b[39m=\u001b[39;49mngroups,\n\u001b[1;32m    501\u001b[0m     comp_ids\u001b[39m=\u001b[39;49mcomp_ids,\n\u001b[1;32m    502\u001b[0m     mask\u001b[39m=\u001b[39;49mmask,\n\u001b[1;32m    503\u001b[0m     result_mask\u001b[39m=\u001b[39;49mresult_mask,\n\u001b[1;32m    504\u001b[0m     \u001b[39m*\u001b[39;49m\u001b[39m*\u001b[39;49mkwargs,\n\u001b[1;32m    505\u001b[0m )\n",
      "File \u001b[0;32m~/Documents/Projects/Arte/venv/lib/python3.11/site-packages/pandas/core/groupby/ops.py:541\u001b[0m, in \u001b[0;36mWrappedCythonOp._call_cython_op\u001b[0;34m(self, values, min_count, ngroups, comp_ids, mask, result_mask, **kwargs)\u001b[0m\n\u001b[1;32m    540\u001b[0m out_shape \u001b[39m=\u001b[39m \u001b[39mself\u001b[39m\u001b[39m.\u001b[39m_get_output_shape(ngroups, values)\n\u001b[0;32m--> 541\u001b[0m func \u001b[39m=\u001b[39m \u001b[39mself\u001b[39;49m\u001b[39m.\u001b[39;49m_get_cython_function(\u001b[39mself\u001b[39;49m\u001b[39m.\u001b[39;49mkind, \u001b[39mself\u001b[39;49m\u001b[39m.\u001b[39;49mhow, values\u001b[39m.\u001b[39;49mdtype, is_numeric)\n\u001b[1;32m    542\u001b[0m values \u001b[39m=\u001b[39m \u001b[39mself\u001b[39m\u001b[39m.\u001b[39m_get_cython_vals(values)\n",
      "File \u001b[0;32m~/Documents/Projects/Arte/venv/lib/python3.11/site-packages/pandas/core/groupby/ops.py:173\u001b[0m, in \u001b[0;36mWrappedCythonOp._get_cython_function\u001b[0;34m(cls, kind, how, dtype, is_numeric)\u001b[0m\n\u001b[1;32m    171\u001b[0m \u001b[39mif\u001b[39;00m \u001b[39m\"\u001b[39m\u001b[39mobject\u001b[39m\u001b[39m\"\u001b[39m \u001b[39mnot\u001b[39;00m \u001b[39min\u001b[39;00m f\u001b[39m.\u001b[39m__signatures__:\n\u001b[1;32m    172\u001b[0m     \u001b[39m# raise NotImplementedError here rather than TypeError later\u001b[39;00m\n\u001b[0;32m--> 173\u001b[0m     \u001b[39mraise\u001b[39;00m \u001b[39mNotImplementedError\u001b[39;00m(\n\u001b[1;32m    174\u001b[0m         \u001b[39mf\u001b[39m\u001b[39m\"\u001b[39m\u001b[39mfunction is not implemented for this dtype: \u001b[39m\u001b[39m\"\u001b[39m\n\u001b[1;32m    175\u001b[0m         \u001b[39mf\u001b[39m\u001b[39m\"\u001b[39m\u001b[39m[how->\u001b[39m\u001b[39m{\u001b[39;00mhow\u001b[39m}\u001b[39;00m\u001b[39m,dtype->\u001b[39m\u001b[39m{\u001b[39;00mdtype_str\u001b[39m}\u001b[39;00m\u001b[39m]\u001b[39m\u001b[39m\"\u001b[39m\n\u001b[1;32m    176\u001b[0m     )\n\u001b[1;32m    177\u001b[0m \u001b[39mreturn\u001b[39;00m f\n",
      "\u001b[0;31mNotImplementedError\u001b[0m: function is not implemented for this dtype: [how->mean,dtype->object]",
      "\nDuring handling of the above exception, another exception occurred:\n",
      "\u001b[0;31mValueError\u001b[0m                                Traceback (most recent call last)",
      "File \u001b[0;32m~/Documents/Projects/Arte/venv/lib/python3.11/site-packages/pandas/core/nanops.py:1692\u001b[0m, in \u001b[0;36m_ensure_numeric\u001b[0;34m(x)\u001b[0m\n\u001b[1;32m   1691\u001b[0m \u001b[39mtry\u001b[39;00m:\n\u001b[0;32m-> 1692\u001b[0m     x \u001b[39m=\u001b[39m \u001b[39mfloat\u001b[39m(x)\n\u001b[1;32m   1693\u001b[0m \u001b[39mexcept\u001b[39;00m (\u001b[39mTypeError\u001b[39;00m, \u001b[39mValueError\u001b[39;00m):\n\u001b[1;32m   1694\u001b[0m     \u001b[39m# e.g. \"1+1j\" or \"foo\"\u001b[39;00m\n",
      "\u001b[0;31mValueError\u001b[0m: could not convert string to float: 'Raymundo Colares'",
      "\nDuring handling of the above exception, another exception occurred:\n",
      "\u001b[0;31mValueError\u001b[0m                                Traceback (most recent call last)",
      "File \u001b[0;32m~/Documents/Projects/Arte/venv/lib/python3.11/site-packages/pandas/core/nanops.py:1696\u001b[0m, in \u001b[0;36m_ensure_numeric\u001b[0;34m(x)\u001b[0m\n\u001b[1;32m   1695\u001b[0m \u001b[39mtry\u001b[39;00m:\n\u001b[0;32m-> 1696\u001b[0m     x \u001b[39m=\u001b[39m \u001b[39mcomplex\u001b[39;49m(x)\n\u001b[1;32m   1697\u001b[0m \u001b[39mexcept\u001b[39;00m \u001b[39mValueError\u001b[39;00m \u001b[39mas\u001b[39;00m err:\n\u001b[1;32m   1698\u001b[0m     \u001b[39m# e.g. \"foo\"\u001b[39;00m\n",
      "\u001b[0;31mValueError\u001b[0m: complex() arg is a malformed string",
      "\nThe above exception was the direct cause of the following exception:\n",
      "\u001b[0;31mTypeError\u001b[0m                                 Traceback (most recent call last)",
      "\u001b[1;32m/Users/mac/Documents/Projects/Arte/analysis/galleries_study.ipynb Cell 17\u001b[0m line \u001b[0;36m2\n\u001b[1;32m      <a href='vscode-notebook-cell:/Users/mac/Documents/Projects/Arte/analysis/galleries_study.ipynb#X13sZmlsZQ%3D%3D?line=0'>1</a>\u001b[0m \u001b[39m# dataframe with gallery mean price and mean price per area columns\u001b[39;00m\n\u001b[0;32m----> <a href='vscode-notebook-cell:/Users/mac/Documents/Projects/Arte/analysis/galleries_study.ipynb#X13sZmlsZQ%3D%3D?line=1'>2</a>\u001b[0m galleries_mean \u001b[39m=\u001b[39m galleries_df\u001b[39m.\u001b[39;49mgroupby(\u001b[39m'\u001b[39;49m\u001b[39mGallery\u001b[39;49m\u001b[39m'\u001b[39;49m)\u001b[39m.\u001b[39;49mmean()\n\u001b[1;32m      <a href='vscode-notebook-cell:/Users/mac/Documents/Projects/Arte/analysis/galleries_study.ipynb#X13sZmlsZQ%3D%3D?line=2'>3</a>\u001b[0m \u001b[39m# add count column\u001b[39;00m\n\u001b[1;32m      <a href='vscode-notebook-cell:/Users/mac/Documents/Projects/Arte/analysis/galleries_study.ipynb#X13sZmlsZQ%3D%3D?line=5'>6</a>\u001b[0m galleries_mean\u001b[39m.\u001b[39mrename(columns\u001b[39m=\u001b[39m{\u001b[39m'\u001b[39m\u001b[39mPrice\u001b[39m\u001b[39m'\u001b[39m: \u001b[39m'\u001b[39m\u001b[39mMean price\u001b[39m\u001b[39m'\u001b[39m, \u001b[39m'\u001b[39m\u001b[39mArea\u001b[39m\u001b[39m'\u001b[39m: \u001b[39m'\u001b[39m\u001b[39mMean price/area\u001b[39m\u001b[39m'\u001b[39m}, inplace\u001b[39m=\u001b[39m\u001b[39mTrue\u001b[39;00m)\n",
      "File \u001b[0;32m~/Documents/Projects/Arte/venv/lib/python3.11/site-packages/pandas/core/groupby/groupby.py:1855\u001b[0m, in \u001b[0;36mGroupBy.mean\u001b[0;34m(self, numeric_only, engine, engine_kwargs)\u001b[0m\n\u001b[1;32m   1853\u001b[0m     \u001b[39mreturn\u001b[39;00m \u001b[39mself\u001b[39m\u001b[39m.\u001b[39m_numba_agg_general(sliding_mean, engine_kwargs)\n\u001b[1;32m   1854\u001b[0m \u001b[39melse\u001b[39;00m:\n\u001b[0;32m-> 1855\u001b[0m     result \u001b[39m=\u001b[39m \u001b[39mself\u001b[39;49m\u001b[39m.\u001b[39;49m_cython_agg_general(\n\u001b[1;32m   1856\u001b[0m         \u001b[39m\"\u001b[39;49m\u001b[39mmean\u001b[39;49m\u001b[39m\"\u001b[39;49m,\n\u001b[1;32m   1857\u001b[0m         alt\u001b[39m=\u001b[39;49m\u001b[39mlambda\u001b[39;49;00m x: Series(x)\u001b[39m.\u001b[39;49mmean(numeric_only\u001b[39m=\u001b[39;49mnumeric_only),\n\u001b[1;32m   1858\u001b[0m         numeric_only\u001b[39m=\u001b[39;49mnumeric_only,\n\u001b[1;32m   1859\u001b[0m     )\n\u001b[1;32m   1860\u001b[0m     \u001b[39mreturn\u001b[39;00m result\u001b[39m.\u001b[39m__finalize__(\u001b[39mself\u001b[39m\u001b[39m.\u001b[39mobj, method\u001b[39m=\u001b[39m\u001b[39m\"\u001b[39m\u001b[39mgroupby\u001b[39m\u001b[39m\"\u001b[39m)\n",
      "File \u001b[0;32m~/Documents/Projects/Arte/venv/lib/python3.11/site-packages/pandas/core/groupby/groupby.py:1507\u001b[0m, in \u001b[0;36mGroupBy._cython_agg_general\u001b[0;34m(self, how, alt, numeric_only, min_count, **kwargs)\u001b[0m\n\u001b[1;32m   1503\u001b[0m         result \u001b[39m=\u001b[39m \u001b[39mself\u001b[39m\u001b[39m.\u001b[39m_agg_py_fallback(values, ndim\u001b[39m=\u001b[39mdata\u001b[39m.\u001b[39mndim, alt\u001b[39m=\u001b[39malt)\n\u001b[1;32m   1505\u001b[0m     \u001b[39mreturn\u001b[39;00m result\n\u001b[0;32m-> 1507\u001b[0m new_mgr \u001b[39m=\u001b[39m data\u001b[39m.\u001b[39;49mgrouped_reduce(array_func)\n\u001b[1;32m   1508\u001b[0m res \u001b[39m=\u001b[39m \u001b[39mself\u001b[39m\u001b[39m.\u001b[39m_wrap_agged_manager(new_mgr)\n\u001b[1;32m   1509\u001b[0m out \u001b[39m=\u001b[39m \u001b[39mself\u001b[39m\u001b[39m.\u001b[39m_wrap_aggregated_output(res)\n",
      "File \u001b[0;32m~/Documents/Projects/Arte/venv/lib/python3.11/site-packages/pandas/core/internals/managers.py:1503\u001b[0m, in \u001b[0;36mBlockManager.grouped_reduce\u001b[0;34m(self, func)\u001b[0m\n\u001b[1;32m   1499\u001b[0m \u001b[39mif\u001b[39;00m blk\u001b[39m.\u001b[39mis_object:\n\u001b[1;32m   1500\u001b[0m     \u001b[39m# split on object-dtype blocks bc some columns may raise\u001b[39;00m\n\u001b[1;32m   1501\u001b[0m     \u001b[39m#  while others do not.\u001b[39;00m\n\u001b[1;32m   1502\u001b[0m     \u001b[39mfor\u001b[39;00m sb \u001b[39min\u001b[39;00m blk\u001b[39m.\u001b[39m_split():\n\u001b[0;32m-> 1503\u001b[0m         applied \u001b[39m=\u001b[39m sb\u001b[39m.\u001b[39;49mapply(func)\n\u001b[1;32m   1504\u001b[0m         result_blocks \u001b[39m=\u001b[39m extend_blocks(applied, result_blocks)\n\u001b[1;32m   1505\u001b[0m \u001b[39melse\u001b[39;00m:\n",
      "File \u001b[0;32m~/Documents/Projects/Arte/venv/lib/python3.11/site-packages/pandas/core/internals/blocks.py:329\u001b[0m, in \u001b[0;36mBlock.apply\u001b[0;34m(self, func, **kwargs)\u001b[0m\n\u001b[1;32m    323\u001b[0m \u001b[39m@final\u001b[39m\n\u001b[1;32m    324\u001b[0m \u001b[39mdef\u001b[39;00m \u001b[39mapply\u001b[39m(\u001b[39mself\u001b[39m, func, \u001b[39m*\u001b[39m\u001b[39m*\u001b[39mkwargs) \u001b[39m-\u001b[39m\u001b[39m>\u001b[39m \u001b[39mlist\u001b[39m[Block]:\n\u001b[1;32m    325\u001b[0m \u001b[39m    \u001b[39m\u001b[39m\"\"\"\u001b[39;00m\n\u001b[1;32m    326\u001b[0m \u001b[39m    apply the function to my values; return a block if we are not\u001b[39;00m\n\u001b[1;32m    327\u001b[0m \u001b[39m    one\u001b[39;00m\n\u001b[1;32m    328\u001b[0m \u001b[39m    \"\"\"\u001b[39;00m\n\u001b[0;32m--> 329\u001b[0m     result \u001b[39m=\u001b[39m func(\u001b[39mself\u001b[39;49m\u001b[39m.\u001b[39;49mvalues, \u001b[39m*\u001b[39;49m\u001b[39m*\u001b[39;49mkwargs)\n\u001b[1;32m    331\u001b[0m     \u001b[39mreturn\u001b[39;00m \u001b[39mself\u001b[39m\u001b[39m.\u001b[39m_split_op_result(result)\n",
      "File \u001b[0;32m~/Documents/Projects/Arte/venv/lib/python3.11/site-packages/pandas/core/groupby/groupby.py:1503\u001b[0m, in \u001b[0;36mGroupBy._cython_agg_general.<locals>.array_func\u001b[0;34m(values)\u001b[0m\n\u001b[1;32m   1490\u001b[0m     result \u001b[39m=\u001b[39m \u001b[39mself\u001b[39m\u001b[39m.\u001b[39mgrouper\u001b[39m.\u001b[39m_cython_operation(\n\u001b[1;32m   1491\u001b[0m         \u001b[39m\"\u001b[39m\u001b[39maggregate\u001b[39m\u001b[39m\"\u001b[39m,\n\u001b[1;32m   1492\u001b[0m         values,\n\u001b[0;32m   (...)\u001b[0m\n\u001b[1;32m   1496\u001b[0m         \u001b[39m*\u001b[39m\u001b[39m*\u001b[39mkwargs,\n\u001b[1;32m   1497\u001b[0m     )\n\u001b[1;32m   1498\u001b[0m \u001b[39mexcept\u001b[39;00m \u001b[39mNotImplementedError\u001b[39;00m:\n\u001b[1;32m   1499\u001b[0m     \u001b[39m# generally if we have numeric_only=False\u001b[39;00m\n\u001b[1;32m   1500\u001b[0m     \u001b[39m# and non-applicable functions\u001b[39;00m\n\u001b[1;32m   1501\u001b[0m     \u001b[39m# try to python agg\u001b[39;00m\n\u001b[1;32m   1502\u001b[0m     \u001b[39m# TODO: shouldn't min_count matter?\u001b[39;00m\n\u001b[0;32m-> 1503\u001b[0m     result \u001b[39m=\u001b[39m \u001b[39mself\u001b[39;49m\u001b[39m.\u001b[39;49m_agg_py_fallback(values, ndim\u001b[39m=\u001b[39;49mdata\u001b[39m.\u001b[39;49mndim, alt\u001b[39m=\u001b[39;49malt)\n\u001b[1;32m   1505\u001b[0m \u001b[39mreturn\u001b[39;00m result\n",
      "File \u001b[0;32m~/Documents/Projects/Arte/venv/lib/python3.11/site-packages/pandas/core/groupby/groupby.py:1457\u001b[0m, in \u001b[0;36mGroupBy._agg_py_fallback\u001b[0;34m(self, values, ndim, alt)\u001b[0m\n\u001b[1;32m   1452\u001b[0m     ser \u001b[39m=\u001b[39m df\u001b[39m.\u001b[39miloc[:, \u001b[39m0\u001b[39m]\n\u001b[1;32m   1454\u001b[0m \u001b[39m# We do not get here with UDFs, so we know that our dtype\u001b[39;00m\n\u001b[1;32m   1455\u001b[0m \u001b[39m#  should always be preserved by the implemented aggregations\u001b[39;00m\n\u001b[1;32m   1456\u001b[0m \u001b[39m# TODO: Is this exactly right; see WrappedCythonOp get_result_dtype?\u001b[39;00m\n\u001b[0;32m-> 1457\u001b[0m res_values \u001b[39m=\u001b[39m \u001b[39mself\u001b[39;49m\u001b[39m.\u001b[39;49mgrouper\u001b[39m.\u001b[39;49magg_series(ser, alt, preserve_dtype\u001b[39m=\u001b[39;49m\u001b[39mTrue\u001b[39;49;00m)\n\u001b[1;32m   1459\u001b[0m \u001b[39mif\u001b[39;00m \u001b[39misinstance\u001b[39m(values, Categorical):\n\u001b[1;32m   1460\u001b[0m     \u001b[39m# Because we only get here with known dtype-preserving\u001b[39;00m\n\u001b[1;32m   1461\u001b[0m     \u001b[39m#  reductions, we cast back to Categorical.\u001b[39;00m\n\u001b[1;32m   1462\u001b[0m     \u001b[39m# TODO: if we ever get \"rank\" working, exclude it here.\u001b[39;00m\n\u001b[1;32m   1463\u001b[0m     res_values \u001b[39m=\u001b[39m \u001b[39mtype\u001b[39m(values)\u001b[39m.\u001b[39m_from_sequence(res_values, dtype\u001b[39m=\u001b[39mvalues\u001b[39m.\u001b[39mdtype)\n",
      "File \u001b[0;32m~/Documents/Projects/Arte/venv/lib/python3.11/site-packages/pandas/core/groupby/ops.py:994\u001b[0m, in \u001b[0;36mBaseGrouper.agg_series\u001b[0;34m(self, obj, func, preserve_dtype)\u001b[0m\n\u001b[1;32m    987\u001b[0m \u001b[39mif\u001b[39;00m \u001b[39mlen\u001b[39m(obj) \u001b[39m>\u001b[39m \u001b[39m0\u001b[39m \u001b[39mand\u001b[39;00m \u001b[39mnot\u001b[39;00m \u001b[39misinstance\u001b[39m(obj\u001b[39m.\u001b[39m_values, np\u001b[39m.\u001b[39mndarray):\n\u001b[1;32m    988\u001b[0m     \u001b[39m# we can preserve a little bit more aggressively with EA dtype\u001b[39;00m\n\u001b[1;32m    989\u001b[0m     \u001b[39m#  because maybe_cast_pointwise_result will do a try/except\u001b[39;00m\n\u001b[1;32m    990\u001b[0m     \u001b[39m#  with _from_sequence.  NB we are assuming here that _from_sequence\u001b[39;00m\n\u001b[1;32m    991\u001b[0m     \u001b[39m#  is sufficiently strict that it casts appropriately.\u001b[39;00m\n\u001b[1;32m    992\u001b[0m     preserve_dtype \u001b[39m=\u001b[39m \u001b[39mTrue\u001b[39;00m\n\u001b[0;32m--> 994\u001b[0m result \u001b[39m=\u001b[39m \u001b[39mself\u001b[39;49m\u001b[39m.\u001b[39;49m_aggregate_series_pure_python(obj, func)\n\u001b[1;32m    996\u001b[0m npvalues \u001b[39m=\u001b[39m lib\u001b[39m.\u001b[39mmaybe_convert_objects(result, try_float\u001b[39m=\u001b[39m\u001b[39mFalse\u001b[39;00m)\n\u001b[1;32m    997\u001b[0m \u001b[39mif\u001b[39;00m preserve_dtype:\n",
      "File \u001b[0;32m~/Documents/Projects/Arte/venv/lib/python3.11/site-packages/pandas/core/groupby/ops.py:1015\u001b[0m, in \u001b[0;36mBaseGrouper._aggregate_series_pure_python\u001b[0;34m(self, obj, func)\u001b[0m\n\u001b[1;32m   1012\u001b[0m splitter \u001b[39m=\u001b[39m \u001b[39mself\u001b[39m\u001b[39m.\u001b[39m_get_splitter(obj, axis\u001b[39m=\u001b[39m\u001b[39m0\u001b[39m)\n\u001b[1;32m   1014\u001b[0m \u001b[39mfor\u001b[39;00m i, group \u001b[39min\u001b[39;00m \u001b[39menumerate\u001b[39m(splitter):\n\u001b[0;32m-> 1015\u001b[0m     res \u001b[39m=\u001b[39m func(group)\n\u001b[1;32m   1016\u001b[0m     res \u001b[39m=\u001b[39m libreduction\u001b[39m.\u001b[39mextract_result(res)\n\u001b[1;32m   1018\u001b[0m     \u001b[39mif\u001b[39;00m \u001b[39mnot\u001b[39;00m initialized:\n\u001b[1;32m   1019\u001b[0m         \u001b[39m# We only do this validation on the first iteration\u001b[39;00m\n",
      "File \u001b[0;32m~/Documents/Projects/Arte/venv/lib/python3.11/site-packages/pandas/core/groupby/groupby.py:1857\u001b[0m, in \u001b[0;36mGroupBy.mean.<locals>.<lambda>\u001b[0;34m(x)\u001b[0m\n\u001b[1;32m   1853\u001b[0m     \u001b[39mreturn\u001b[39;00m \u001b[39mself\u001b[39m\u001b[39m.\u001b[39m_numba_agg_general(sliding_mean, engine_kwargs)\n\u001b[1;32m   1854\u001b[0m \u001b[39melse\u001b[39;00m:\n\u001b[1;32m   1855\u001b[0m     result \u001b[39m=\u001b[39m \u001b[39mself\u001b[39m\u001b[39m.\u001b[39m_cython_agg_general(\n\u001b[1;32m   1856\u001b[0m         \u001b[39m\"\u001b[39m\u001b[39mmean\u001b[39m\u001b[39m\"\u001b[39m,\n\u001b[0;32m-> 1857\u001b[0m         alt\u001b[39m=\u001b[39m\u001b[39mlambda\u001b[39;00m x: Series(x)\u001b[39m.\u001b[39;49mmean(numeric_only\u001b[39m=\u001b[39;49mnumeric_only),\n\u001b[1;32m   1858\u001b[0m         numeric_only\u001b[39m=\u001b[39mnumeric_only,\n\u001b[1;32m   1859\u001b[0m     )\n\u001b[1;32m   1860\u001b[0m     \u001b[39mreturn\u001b[39;00m result\u001b[39m.\u001b[39m__finalize__(\u001b[39mself\u001b[39m\u001b[39m.\u001b[39mobj, method\u001b[39m=\u001b[39m\u001b[39m\"\u001b[39m\u001b[39mgroupby\u001b[39m\u001b[39m\"\u001b[39m)\n",
      "File \u001b[0;32m~/Documents/Projects/Arte/venv/lib/python3.11/site-packages/pandas/core/generic.py:11556\u001b[0m, in \u001b[0;36mNDFrame._add_numeric_operations.<locals>.mean\u001b[0;34m(self, axis, skipna, numeric_only, **kwargs)\u001b[0m\n\u001b[1;32m  11539\u001b[0m \u001b[39m@doc\u001b[39m(\n\u001b[1;32m  11540\u001b[0m     _num_doc,\n\u001b[1;32m  11541\u001b[0m     desc\u001b[39m=\u001b[39m\u001b[39m\"\u001b[39m\u001b[39mReturn the mean of the values over the requested axis.\u001b[39m\u001b[39m\"\u001b[39m,\n\u001b[0;32m   (...)\u001b[0m\n\u001b[1;32m  11554\u001b[0m     \u001b[39m*\u001b[39m\u001b[39m*\u001b[39mkwargs,\n\u001b[1;32m  11555\u001b[0m ):\n\u001b[0;32m> 11556\u001b[0m     \u001b[39mreturn\u001b[39;00m NDFrame\u001b[39m.\u001b[39;49mmean(\u001b[39mself\u001b[39;49m, axis, skipna, numeric_only, \u001b[39m*\u001b[39;49m\u001b[39m*\u001b[39;49mkwargs)\n",
      "File \u001b[0;32m~/Documents/Projects/Arte/venv/lib/python3.11/site-packages/pandas/core/generic.py:11201\u001b[0m, in \u001b[0;36mNDFrame.mean\u001b[0;34m(self, axis, skipna, numeric_only, **kwargs)\u001b[0m\n\u001b[1;32m  11194\u001b[0m \u001b[39mdef\u001b[39;00m \u001b[39mmean\u001b[39m(\n\u001b[1;32m  11195\u001b[0m     \u001b[39mself\u001b[39m,\n\u001b[1;32m  11196\u001b[0m     axis: Axis \u001b[39m|\u001b[39m \u001b[39mNone\u001b[39;00m \u001b[39m=\u001b[39m \u001b[39m0\u001b[39m,\n\u001b[0;32m   (...)\u001b[0m\n\u001b[1;32m  11199\u001b[0m     \u001b[39m*\u001b[39m\u001b[39m*\u001b[39mkwargs,\n\u001b[1;32m  11200\u001b[0m ) \u001b[39m-\u001b[39m\u001b[39m>\u001b[39m Series \u001b[39m|\u001b[39m \u001b[39mfloat\u001b[39m:\n\u001b[0;32m> 11201\u001b[0m     \u001b[39mreturn\u001b[39;00m \u001b[39mself\u001b[39;49m\u001b[39m.\u001b[39;49m_stat_function(\n\u001b[1;32m  11202\u001b[0m         \u001b[39m\"\u001b[39;49m\u001b[39mmean\u001b[39;49m\u001b[39m\"\u001b[39;49m, nanops\u001b[39m.\u001b[39;49mnanmean, axis, skipna, numeric_only, \u001b[39m*\u001b[39;49m\u001b[39m*\u001b[39;49mkwargs\n\u001b[1;32m  11203\u001b[0m     )\n",
      "File \u001b[0;32m~/Documents/Projects/Arte/venv/lib/python3.11/site-packages/pandas/core/generic.py:11158\u001b[0m, in \u001b[0;36mNDFrame._stat_function\u001b[0;34m(self, name, func, axis, skipna, numeric_only, **kwargs)\u001b[0m\n\u001b[1;32m  11154\u001b[0m     nv\u001b[39m.\u001b[39mvalidate_stat_func((), kwargs, fname\u001b[39m=\u001b[39mname)\n\u001b[1;32m  11156\u001b[0m validate_bool_kwarg(skipna, \u001b[39m\"\u001b[39m\u001b[39mskipna\u001b[39m\u001b[39m\"\u001b[39m, none_allowed\u001b[39m=\u001b[39m\u001b[39mFalse\u001b[39;00m)\n\u001b[0;32m> 11158\u001b[0m \u001b[39mreturn\u001b[39;00m \u001b[39mself\u001b[39;49m\u001b[39m.\u001b[39;49m_reduce(\n\u001b[1;32m  11159\u001b[0m     func, name\u001b[39m=\u001b[39;49mname, axis\u001b[39m=\u001b[39;49maxis, skipna\u001b[39m=\u001b[39;49mskipna, numeric_only\u001b[39m=\u001b[39;49mnumeric_only\n\u001b[1;32m  11160\u001b[0m )\n",
      "File \u001b[0;32m~/Documents/Projects/Arte/venv/lib/python3.11/site-packages/pandas/core/series.py:4670\u001b[0m, in \u001b[0;36mSeries._reduce\u001b[0;34m(self, op, name, axis, skipna, numeric_only, filter_type, **kwds)\u001b[0m\n\u001b[1;32m   4665\u001b[0m     \u001b[39mraise\u001b[39;00m \u001b[39mTypeError\u001b[39;00m(\n\u001b[1;32m   4666\u001b[0m         \u001b[39mf\u001b[39m\u001b[39m\"\u001b[39m\u001b[39mSeries.\u001b[39m\u001b[39m{\u001b[39;00mname\u001b[39m}\u001b[39;00m\u001b[39m does not allow \u001b[39m\u001b[39m{\u001b[39;00mkwd_name\u001b[39m}\u001b[39;00m\u001b[39m=\u001b[39m\u001b[39m{\u001b[39;00mnumeric_only\u001b[39m}\u001b[39;00m\u001b[39m \u001b[39m\u001b[39m\"\u001b[39m\n\u001b[1;32m   4667\u001b[0m         \u001b[39m\"\u001b[39m\u001b[39mwith non-numeric dtypes.\u001b[39m\u001b[39m\"\u001b[39m\n\u001b[1;32m   4668\u001b[0m     )\n\u001b[1;32m   4669\u001b[0m \u001b[39mwith\u001b[39;00m np\u001b[39m.\u001b[39merrstate(\u001b[39mall\u001b[39m\u001b[39m=\u001b[39m\u001b[39m\"\u001b[39m\u001b[39mignore\u001b[39m\u001b[39m\"\u001b[39m):\n\u001b[0;32m-> 4670\u001b[0m     \u001b[39mreturn\u001b[39;00m op(delegate, skipna\u001b[39m=\u001b[39;49mskipna, \u001b[39m*\u001b[39;49m\u001b[39m*\u001b[39;49mkwds)\n",
      "File \u001b[0;32m~/Documents/Projects/Arte/venv/lib/python3.11/site-packages/pandas/core/nanops.py:96\u001b[0m, in \u001b[0;36mdisallow.__call__.<locals>._f\u001b[0;34m(*args, **kwargs)\u001b[0m\n\u001b[1;32m     94\u001b[0m \u001b[39mtry\u001b[39;00m:\n\u001b[1;32m     95\u001b[0m     \u001b[39mwith\u001b[39;00m np\u001b[39m.\u001b[39merrstate(invalid\u001b[39m=\u001b[39m\u001b[39m\"\u001b[39m\u001b[39mignore\u001b[39m\u001b[39m\"\u001b[39m):\n\u001b[0;32m---> 96\u001b[0m         \u001b[39mreturn\u001b[39;00m f(\u001b[39m*\u001b[39;49margs, \u001b[39m*\u001b[39;49m\u001b[39m*\u001b[39;49mkwargs)\n\u001b[1;32m     97\u001b[0m \u001b[39mexcept\u001b[39;00m \u001b[39mValueError\u001b[39;00m \u001b[39mas\u001b[39;00m e:\n\u001b[1;32m     98\u001b[0m     \u001b[39m# we want to transform an object array\u001b[39;00m\n\u001b[1;32m     99\u001b[0m     \u001b[39m# ValueError message to the more typical TypeError\u001b[39;00m\n\u001b[1;32m    100\u001b[0m     \u001b[39m# e.g. this is normally a disallowed function on\u001b[39;00m\n\u001b[1;32m    101\u001b[0m     \u001b[39m# object arrays that contain strings\u001b[39;00m\n\u001b[1;32m    102\u001b[0m     \u001b[39mif\u001b[39;00m is_object_dtype(args[\u001b[39m0\u001b[39m]):\n",
      "File \u001b[0;32m~/Documents/Projects/Arte/venv/lib/python3.11/site-packages/pandas/core/nanops.py:158\u001b[0m, in \u001b[0;36mbottleneck_switch.__call__.<locals>.f\u001b[0;34m(values, axis, skipna, **kwds)\u001b[0m\n\u001b[1;32m    156\u001b[0m         result \u001b[39m=\u001b[39m alt(values, axis\u001b[39m=\u001b[39maxis, skipna\u001b[39m=\u001b[39mskipna, \u001b[39m*\u001b[39m\u001b[39m*\u001b[39mkwds)\n\u001b[1;32m    157\u001b[0m \u001b[39melse\u001b[39;00m:\n\u001b[0;32m--> 158\u001b[0m     result \u001b[39m=\u001b[39m alt(values, axis\u001b[39m=\u001b[39;49maxis, skipna\u001b[39m=\u001b[39;49mskipna, \u001b[39m*\u001b[39;49m\u001b[39m*\u001b[39;49mkwds)\n\u001b[1;32m    160\u001b[0m \u001b[39mreturn\u001b[39;00m result\n",
      "File \u001b[0;32m~/Documents/Projects/Arte/venv/lib/python3.11/site-packages/pandas/core/nanops.py:421\u001b[0m, in \u001b[0;36m_datetimelike_compat.<locals>.new_func\u001b[0;34m(values, axis, skipna, mask, **kwargs)\u001b[0m\n\u001b[1;32m    418\u001b[0m \u001b[39mif\u001b[39;00m datetimelike \u001b[39mand\u001b[39;00m mask \u001b[39mis\u001b[39;00m \u001b[39mNone\u001b[39;00m:\n\u001b[1;32m    419\u001b[0m     mask \u001b[39m=\u001b[39m isna(values)\n\u001b[0;32m--> 421\u001b[0m result \u001b[39m=\u001b[39m func(values, axis\u001b[39m=\u001b[39;49maxis, skipna\u001b[39m=\u001b[39;49mskipna, mask\u001b[39m=\u001b[39;49mmask, \u001b[39m*\u001b[39;49m\u001b[39m*\u001b[39;49mkwargs)\n\u001b[1;32m    423\u001b[0m \u001b[39mif\u001b[39;00m datetimelike:\n\u001b[1;32m    424\u001b[0m     result \u001b[39m=\u001b[39m _wrap_results(result, orig_values\u001b[39m.\u001b[39mdtype, fill_value\u001b[39m=\u001b[39miNaT)\n",
      "File \u001b[0;32m~/Documents/Projects/Arte/venv/lib/python3.11/site-packages/pandas/core/nanops.py:727\u001b[0m, in \u001b[0;36mnanmean\u001b[0;34m(values, axis, skipna, mask)\u001b[0m\n\u001b[1;32m    724\u001b[0m     dtype_count \u001b[39m=\u001b[39m dtype\n\u001b[1;32m    726\u001b[0m count \u001b[39m=\u001b[39m _get_counts(values\u001b[39m.\u001b[39mshape, mask, axis, dtype\u001b[39m=\u001b[39mdtype_count)\n\u001b[0;32m--> 727\u001b[0m the_sum \u001b[39m=\u001b[39m _ensure_numeric(values\u001b[39m.\u001b[39;49msum(axis, dtype\u001b[39m=\u001b[39;49mdtype_sum))\n\u001b[1;32m    729\u001b[0m \u001b[39mif\u001b[39;00m axis \u001b[39mis\u001b[39;00m \u001b[39mnot\u001b[39;00m \u001b[39mNone\u001b[39;00m \u001b[39mand\u001b[39;00m \u001b[39mgetattr\u001b[39m(the_sum, \u001b[39m\"\u001b[39m\u001b[39mndim\u001b[39m\u001b[39m\"\u001b[39m, \u001b[39mFalse\u001b[39;00m):\n\u001b[1;32m    730\u001b[0m     count \u001b[39m=\u001b[39m cast(np\u001b[39m.\u001b[39mndarray, count)\n",
      "File \u001b[0;32m~/Documents/Projects/Arte/venv/lib/python3.11/site-packages/pandas/core/nanops.py:1699\u001b[0m, in \u001b[0;36m_ensure_numeric\u001b[0;34m(x)\u001b[0m\n\u001b[1;32m   1696\u001b[0m             x \u001b[39m=\u001b[39m \u001b[39mcomplex\u001b[39m(x)\n\u001b[1;32m   1697\u001b[0m         \u001b[39mexcept\u001b[39;00m \u001b[39mValueError\u001b[39;00m \u001b[39mas\u001b[39;00m err:\n\u001b[1;32m   1698\u001b[0m             \u001b[39m# e.g. \"foo\"\u001b[39;00m\n\u001b[0;32m-> 1699\u001b[0m             \u001b[39mraise\u001b[39;00m \u001b[39mTypeError\u001b[39;00m(\u001b[39mf\u001b[39m\u001b[39m\"\u001b[39m\u001b[39mCould not convert \u001b[39m\u001b[39m{\u001b[39;00mx\u001b[39m}\u001b[39;00m\u001b[39m to numeric\u001b[39m\u001b[39m\"\u001b[39m) \u001b[39mfrom\u001b[39;00m \u001b[39merr\u001b[39;00m\n\u001b[1;32m   1700\u001b[0m \u001b[39mreturn\u001b[39;00m x\n",
      "\u001b[0;31mTypeError\u001b[0m: Could not convert Raymundo Colares to numeric"
     ]
    }
   ],
   "source": [
    "# dataframe with gallery mean price and mean price per area columns\n",
    "galleries_mean = galleries_df.groupby('Gallery').mean()\n",
    "# add count column\n",
    "\n",
    "\n",
    "galleries_mean.rename(columns={'Price': 'Mean price', 'Area': 'Mean price/area'}, inplace=True)\n",
    "galleries_mean['Mean price'] = pd.to_numeric(galleries_mean['Mean price'], errors='coerce')\n",
    "galleries_mean.sort_values(by='Mean price', ascending=False, inplace=True)\n",
    "galleries_mean.round(0)\n"
   ]
  }
 ],
 "metadata": {
  "kernelspec": {
   "display_name": "venv",
   "language": "python",
   "name": "python3"
  },
  "language_info": {
   "codemirror_mode": {
    "name": "ipython",
    "version": 3
   },
   "file_extension": ".py",
   "mimetype": "text/x-python",
   "name": "python",
   "nbconvert_exporter": "python",
   "pygments_lexer": "ipython3",
   "version": "3.11.4"
  },
  "orig_nbformat": 4
 },
 "nbformat": 4,
 "nbformat_minor": 2
}
