{
 "cells": [
  {
   "cell_type": "code",
   "execution_count": null,
   "metadata": {},
   "outputs": [],
   "source": [
    "!python3 -m spacy download pt_core_news_lg\n",
    "import spacy\n",
    "\n",
    "\n",
    "# Load the Portuguese language model\n",
    "nlp = spacy.load('pt_core_news_sm')"
   ]
  },
  {
   "cell_type": "code",
   "execution_count": null,
   "metadata": {},
   "outputs": [],
   "source": [
    "def extract_materials_and_mediums(text):\n",
    "    # Process the input text with the NLP pipeline\n",
    "    doc = nlp(text)\n",
    "    \n",
    "    # Initialize lists to store materials and mediums\n",
    "    materials = []\n",
    "    mediums = []\n",
    "    \n",
    "    # Define a dictionary mapping entity labels to material and medium categories\n",
    "    material_labels = ['MATERIAL']\n",
    "    medium_labels = ['MEDIUM']\n",
    "    \n",
    "    # Iterate over entities in the document\n",
    "    for ent in doc.ents:\n",
    "        if ent.label_ in material_labels:\n",
    "            materials.append(ent.text.strip())\n",
    "        elif ent.label_ in medium_labels:\n",
    "            mediums.append(ent.text.strip())\n",
    "    \n",
    "    return materials, mediums\n",
    "\n",
    "# Example usage\n",
    "text1 = \"2022 Óleo sobre madeira\"\n",
    "text2 = \"Obra faz parte da série Enquanto isso, lá foraRealizada sobre painel telado com carvão e cera de abelhaEmoldurada em madeira preta\"\n",
    "\n",
    "materials1, mediums1 = extract_materials_and_mediums(text1)\n",
    "materials2, mediums2 = extract_materials_and_mediums(text2)\n",
    "\n",
    "print(\"Materials (text1):\", materials1)\n",
    "print(\"Mediums (text1):\", mediums1)\n",
    "print(\"Materials (text2):\", materials2)\n",
    "print(\"Mediums (text2):\", mediums2)"
   ]
  }
 ],
 "metadata": {
  "kernelspec": {
   "display_name": "Python 3",
   "language": "python",
   "name": "python3"
  },
  "language_info": {
   "codemirror_mode": {
    "name": "ipython",
    "version": 3
   },
   "file_extension": ".py",
   "mimetype": "text/x-python",
   "name": "python",
   "nbconvert_exporter": "python",
   "pygments_lexer": "ipython3",
   "version": "3.11.4"
  },
  "orig_nbformat": 4
 },
 "nbformat": 4,
 "nbformat_minor": 2
}
