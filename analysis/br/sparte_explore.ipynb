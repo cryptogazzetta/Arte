{
 "cells": [
  {
   "cell_type": "code",
   "execution_count": 139,
   "metadata": {},
   "outputs": [],
   "source": [
    "## IMPORTS\n",
    "import pandas as pd\n",
    "import string_handle\n",
    "import numpy as np"
   ]
  },
  {
   "cell_type": "code",
   "execution_count": 140,
   "metadata": {},
   "outputs": [],
   "source": [
    "## FUNCTIONS\n",
    "\n",
    "def calculate_area_and_price_per_area(dataframe):\n",
    "    # Iterate over the \"Size\" column\n",
    "    df = dataframe.copy()\n",
    "    for i, size in enumerate(dataframe['Size']):\n",
    "        dimensions = re.findall(r'\\d+(?:\\.\\d+)?', size)\n",
    "        if len(dimensions) >= 2:\n",
    "            # Extract the width and height dimensions\n",
    "            try:\n",
    "                width = float(dimensions[0])\n",
    "                df.at[i, 'Width'] = width\n",
    "                height = float(dimensions[1])\n",
    "                df.at[i, 'Height'] = height\n",
    "                total_area = width * height\n",
    "                df.at[i, 'Size'] = total_area\n",
    "            except:\n",
    "                df.at[i, 'Size'] = 'NaN'\n",
    "    # df['Price / cm²'] = df['Price'] / df['Size']\n",
    "\n",
    "    return df"
   ]
  },
  {
   "cell_type": "code",
   "execution_count": 160,
   "metadata": {},
   "outputs": [],
   "source": [
    "artworks_df = pd.read_csv('../temporary-files/sparte_artworks_info.csv')\n",
    "\n",
    "artworks_df = calculate_area_and_price_per_area(artworks_df)\n",
    "\n",
    "artworks_df['Price'] = artworks_df['Price'].apply(lambda x: x.split('–')[0] if '–' in x else x)\n",
    "artworks_df['Price'] = artworks_df['Price'].apply(lambda x: string_handle.get_number(x))\n",
    "artworks_df['Price'] = artworks_df['Price'].replace('', np.nan)\n",
    "artworks_df['Price'] = artworks_df['Price'].astype(float)\n",
    "\n",
    "# fill missing values\n",
    "artworks_df['Price'] = artworks_df['Price'].replace('', np.nan)\n",
    "# size column to float. if not possible, replace with NaN\n",
    "artworks_df['Size'] = artworks_df['Size'].replace('', np.nan)\n",
    "\n",
    "# eliminate all rows with non-numeric values in the 'Size' column\n",
    "artworks_df = artworks_df[artworks_df['Size'].apply(lambda x: isinstance(x, float))]\n",
    "\n",
    "artworks_df['Price / cm²'] = artworks_df['Price'] / artworks_df['Size']\n",
    "\n",
    "\n",
    "# artworks_df.to_csv('../temporary-files/sparte_artworks_info.csv', index=False)"
   ]
  }
 ],
 "metadata": {
  "kernelspec": {
   "display_name": "Python 3",
   "language": "python",
   "name": "python3"
  },
  "language_info": {
   "codemirror_mode": {
    "name": "ipython",
    "version": 3
   },
   "file_extension": ".py",
   "mimetype": "text/x-python",
   "name": "python",
   "nbconvert_exporter": "python",
   "pygments_lexer": "ipython3",
   "version": "3.11.4"
  },
  "orig_nbformat": 4
 },
 "nbformat": 4,
 "nbformat_minor": 2
}
